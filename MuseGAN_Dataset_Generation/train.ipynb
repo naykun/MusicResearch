{
 "cells": [
  {
   "cell_type": "code",
   "execution_count": 1,
   "metadata": {},
   "outputs": [
    {
     "name": "stderr",
     "output_type": "stream",
     "text": [
      "/Library/Frameworks/Python.framework/Versions/3.6/lib/python3.6/site-packages/h5py/__init__.py:36: FutureWarning: Conversion of the second argument of issubdtype from `float` to `np.floating` is deprecated. In future, it will be treated as `np.float64 == np.dtype(float).type`.\n",
      "  from ._conv import register_converters as _register_converters\n",
      "Using TensorFlow backend.\n"
     ]
    }
   ],
   "source": [
    "import tensorflow as tf\n",
    "import numpy as np\n",
    "import os\n",
    "import random\n",
    "import copy\n",
    "\n",
    "import keras\n",
    "from keras.layers import Input, Dense, Conv2D, Dropout, Flatten, Reshape\n",
    "from keras.optimizers import RMSprop, Adam\n",
    "from keras.models import Model\n",
    "from keras.models import Sequential\n",
    "from keras.callbacks import LambdaCallback\n",
    "\n",
    "from pypianoroll import Multitrack, Track\n",
    "from matplotlib import pyplot as plt\n",
    "import pypianoroll as ppr\n",
    "\n",
    "import my_config"
   ]
  },
  {
   "cell_type": "code",
   "execution_count": 2,
   "metadata": {},
   "outputs": [
    {
     "name": "stdout",
     "output_type": "stream",
     "text": [
      "{'track_num': 5, 'program_nums': [0, 0, 24, 32, 48], 'is_drums': [True, False, False, False, False], 'track_names': ['Drums', 'Piano', 'Guitar', 'Bass', 'Ensemble'], 'tempo': 120, 'velocity': 100, 'dataset_path': '/Users/mac/Desktop/Brain/MuseGAN/training_data/lastfm_alternative_5b_phrase.npy', 'dataset_name': 'lastfm_alternative_5b_phrase', 'pause_between_samples': 96, 'num_bar': 4, 'num_beat': 4, 'num_pitch': 84, 'num_track': 8, 'num_timestep': 96, 'beat_resolution': 24, 'lowest_pitch': 24}\n"
     ]
    }
   ],
   "source": [
    "# set up config\n",
    "config = copy.deepcopy(my_config.config_5b)\n",
    "dataset = np.load(config['dataset_path'])\n",
    "print(config)"
   ]
  },
  {
   "cell_type": "code",
   "execution_count": 3,
   "metadata": {},
   "outputs": [
    {
     "data": {
      "text/plain": [
       "(100, 6, 4, 96, 84, 5)"
      ]
     },
     "execution_count": 3,
     "metadata": {},
     "output_type": "execute_result"
    }
   ],
   "source": [
    "# load dataset\n",
    "dataset = dataset[0:100]\n",
    "dataset.shape"
   ]
  },
  {
   "cell_type": "code",
   "execution_count": 4,
   "metadata": {},
   "outputs": [],
   "source": [
    "maxlen = 96"
   ]
  },
  {
   "cell_type": "code",
   "execution_count": 5,
   "metadata": {},
   "outputs": [],
   "source": [
    "# feature\n",
    "reshaped_dataset = dataset.reshape((len(dataset),-1,84,5))\n",
    "\n",
    "feature = []\n",
    "label = []\n",
    "\n",
    "for now_song in reshaped_dataset:\n",
    "    for i in range(0, len(now_song), 24):\n",
    "        if (i + maxlen + 1) < len(now_song):\n",
    "            feature.append(now_song[i:i+maxlen])\n",
    "            label.append(now_song[i+maxlen])\n",
    "# label\n",
    "# batch"
   ]
  },
  {
   "cell_type": "code",
   "execution_count": 8,
   "metadata": {},
   "outputs": [],
   "source": [
    "# split data to train and validation\n",
    "dataset_size = len(dataset)\n",
    "val_ratio = 0.1\n",
    "\n",
    "train_size = int(dataset_size * (1 - val_ratio))\n",
    "# eval_size = dataset_size - train_size\n",
    "\n",
    "x_train = np.array(feature[0:train_size])\n",
    "y_train = np.array(label[0:train_size])\n",
    "\n",
    "x_val = np.array(feature[train_size: dataset_size])\n",
    "y_val = np.array(label[train_size: dataset_size])"
   ]
  },
  {
   "cell_type": "code",
   "execution_count": 9,
   "metadata": {},
   "outputs": [
    {
     "name": "stdout",
     "output_type": "stream",
     "text": [
      "x_train shape: (90, 96, 84, 5)\n",
      "y_train shape: (90, 84, 5)\n",
      "x_val shape: (10, 96, 84, 5)\n",
      "y_val shape: (10, 84, 5)\n"
     ]
    }
   ],
   "source": [
    "print('x_train shape:', x_train.shape)\n",
    "print('y_train shape:', y_train.shape)\n",
    "print('x_val shape:', x_val.shape)\n",
    "print('y_val shape:', y_val.shape)"
   ]
  },
  {
   "cell_type": "code",
   "execution_count": 10,
   "metadata": {
    "scrolled": true
   },
   "outputs": [
    {
     "name": "stdout",
     "output_type": "stream",
     "text": [
      "_________________________________________________________________\n",
      "Layer (type)                 Output Shape              Param #   \n",
      "=================================================================\n",
      "input_1 (InputLayer)         (None, 96, 84, 5)         0         \n",
      "_________________________________________________________________\n",
      "flatten_1 (Flatten)          (None, 40320)             0         \n",
      "_________________________________________________________________\n",
      "dense_1 (Dense)              (None, 420)               16934820  \n",
      "_________________________________________________________________\n",
      "reshape_1 (Reshape)          (None, 84, 5)             0         \n",
      "=================================================================\n",
      "Total params: 16,934,820\n",
      "Trainable params: 16,934,820\n",
      "Non-trainable params: 0\n",
      "_________________________________________________________________\n"
     ]
    }
   ],
   "source": [
    "# build model\n",
    "xx = Input(shape=(maxlen, 84, 5))\n",
    "xxx = Flatten()(xx)\n",
    "xxx = Dense(84*5, activation='relu')(xxx)\n",
    "xxx = Reshape((84, 5))(xxx)\n",
    "model = Model(xx, xxx)\n",
    "model.summary()\n",
    "\n",
    "model.compile(loss='mean_squared_error',\n",
    "              optimizer=RMSprop(),\n",
    "              metrics=['accuracy'])"
   ]
  },
  {
   "cell_type": "code",
   "execution_count": 11,
   "metadata": {},
   "outputs": [],
   "source": [
    "# snapshot"
   ]
  },
  {
   "cell_type": "code",
   "execution_count": 12,
   "metadata": {},
   "outputs": [],
   "source": [
    "generate_length = 1000"
   ]
  },
  {
   "cell_type": "code",
   "execution_count": 18,
   "metadata": {},
   "outputs": [],
   "source": [
    "def write_midi(filepath, pianorolls, config):\n",
    "    is_drums = config['is_drums']\n",
    "    track_names = config['track_names']\n",
    "    tempo = config['tempo']\n",
    "    beat_resolution = config['beat_resolution']\n",
    "    program_nums = config['program_nums']\n",
    "    \n",
    "    if not np.issubdtype(pianorolls.dtype, np.bool_):\n",
    "        raise TypeError(\"Support only binary-valued piano-rolls\")\n",
    "    if isinstance(program_nums, int):\n",
    "        program_nums = [program_nums]\n",
    "    if isinstance(is_drums, int):\n",
    "        is_drums = [is_drums]\n",
    "\n",
    "    if program_nums is None:\n",
    "        program_nums = [0] * len(pianorolls)\n",
    "    if is_drums is None:\n",
    "        is_drums = [False] * len(pianorolls)\n",
    "\n",
    "    multitrack = Multitrack(beat_resolution=beat_resolution, tempo=tempo)\n",
    "    for idx in range(pianorolls.shape[2]):\n",
    "        if track_names is None:\n",
    "            track = Track(pianorolls[..., idx], program_nums[idx],\n",
    "                          is_drums[idx])\n",
    "        else:\n",
    "            track = Track(pianorolls[..., idx], program_nums[idx],\n",
    "                          is_drums[idx], track_names[idx])\n",
    "        multitrack.append_track(track)\n",
    "    multitrack.write(filepath)"
   ]
  },
  {
   "cell_type": "code",
   "execution_count": 19,
   "metadata": {},
   "outputs": [],
   "source": [
    "def save_midi(filepath, phrases, config):\n",
    "    if not np.issubdtype(phrases.dtype, np.bool_):\n",
    "        raise TypeError(\"Support only binary-valued piano-rolls\")\n",
    "\n",
    "    reshaped = phrases.reshape(-1, phrases.shape[1] * phrases.shape[2],\n",
    "                               phrases.shape[3], phrases.shape[4])\n",
    "    \n",
    "    # print(\"reshaped shape:\", reshaped.shape)\n",
    "    # result final shape: (5, 1, 96, 84, 5)\n",
    "\n",
    "    pad_width = ((0, 0), (0, config['pause_between_samples']),\n",
    "                 (config['lowest_pitch'],\n",
    "                  128 - config['lowest_pitch'] - config['num_pitch']),\n",
    "                 (0, 0))\n",
    "    \n",
    "    # pad width 表示前补和后补的长度\n",
    "    # print('pad_width:',pad_width)\n",
    "    padded = np.pad(reshaped, pad_width, 'constant')\n",
    "    \n",
    "    print(\"padded shape:\", padded.shape)\n",
    "    pianorolls = padded.reshape(-1, padded.shape[2], padded.shape[3])\n",
    "    print(\"pianorolls shape:\", pianorolls.shape)\n",
    "    write_midi(filepath, pianorolls, config)"
   ]
  },
  {
   "cell_type": "code",
   "execution_count": 20,
   "metadata": {},
   "outputs": [],
   "source": [
    "def on_epoch_end(epoch, logs):\n",
    "    start_index = random.randint(0, len(x_train)-1)\n",
    "    \n",
    "    result = []\n",
    "    x_pred = np.array([x_train[start_index]])\n",
    "    \n",
    "    print('x_pred shape:', x_pred.shape)\n",
    "    \n",
    "    result = copy.deepcopy(x_pred)\n",
    "    print(\"result shape:\", result.shape)\n",
    "\n",
    "    print(config)\n",
    "    \n",
    "    for i in range(generate_length):\n",
    "        y_pred = model.predict(x_pred, verbose = 0)\n",
    "        # print(\"y_pred shape:\", y_pred.shape)\n",
    "        result = np.append(result, [y_pred], axis = 1)\n",
    "        \n",
    "        # print(\"before x_pred shape:\", x_pred[:,1:maxlen,:,:].shape)\n",
    "        \n",
    "        x_pred = np.append(x_pred[:,1:maxlen,:,:], [y_pred], axis = 1) \n",
    "        \n",
    "        # print(\"after x_pred shape:\", x_pred.shape)\n",
    "\n",
    "        \n",
    "        # print(\"result shape:\", result.shape)\n",
    "        # print(\"x_pred shape:\", x_pred.shape)\n",
    "        \n",
    "    print('result shape:',result.shape)\n",
    "    result = np.array(result, dtype=np.bool_)\n",
    "    # print('result:',result)\n",
    "    \n",
    "    need_length = (generate_length + maxlen) // (96*4) * (96*4)\n",
    "    result = result[0]\n",
    "    result = result[0:need_length]\n",
    "    \n",
    "    # now is stard piano roll\n",
    "    print('result shape:',result.shape)\n",
    "    \n",
    "    result = result.reshape((-1,4,96,84,5))\n",
    "    \n",
    "    print('result final shape:',result.shape)\n",
    "\n",
    "    save_midi('/Users/mac/Desktop/test_ppr/test_train_%d.mid' % (epoch+1), result, config)\n",
    "    # print('2333')"
   ]
  },
  {
   "cell_type": "code",
   "execution_count": 21,
   "metadata": {},
   "outputs": [],
   "source": [
    "print_callback = LambdaCallback(on_epoch_end=on_epoch_end)"
   ]
  },
  {
   "cell_type": "code",
   "execution_count": 23,
   "metadata": {},
   "outputs": [
    {
     "name": "stdout",
     "output_type": "stream",
     "text": [
      "Train on 90 samples, validate on 10 samples\n",
      "Epoch 1/5\n",
      "90/90 [==============================] - 7s 78ms/step - loss: 0.0151 - acc: 0.9521 - val_loss: 0.0266 - val_acc: 0.6405\n",
      "x_pred shape: (1, 96, 84, 5)\n",
      "result shape: (1, 96, 84, 5)\n",
      "{'track_num': 5, 'program_nums': [0, 0, 24, 32, 48], 'is_drums': [True, False, False, False, False], 'track_names': ['Drums', 'Piano', 'Guitar', 'Bass', 'Ensemble'], 'tempo': 120, 'velocity': 100, 'dataset_path': '/Users/mac/Desktop/Brain/MuseGAN/training_data/lastfm_alternative_5b_phrase.npy', 'dataset_name': 'lastfm_alternative_5b_phrase', 'pause_between_samples': 96, 'num_bar': 4, 'num_beat': 4, 'num_pitch': 84, 'num_track': 8, 'num_timestep': 96, 'beat_resolution': 24, 'lowest_pitch': 24}\n",
      "result shape: (1, 1096, 84, 5)\n",
      "result shape: (768, 84, 5)\n",
      "result final shape: (2, 4, 96, 84, 5)\n",
      "padded shape: (2, 480, 128, 5)\n",
      "pianorolls shape: (960, 128, 5)\n",
      "Epoch 2/5\n",
      "90/90 [==============================] - 7s 78ms/step - loss: 0.0150 - acc: 0.9517 - val_loss: 0.0268 - val_acc: 0.6345\n",
      "x_pred shape: (1, 96, 84, 5)\n",
      "result shape: (1, 96, 84, 5)\n",
      "{'track_num': 5, 'program_nums': [0, 0, 24, 32, 48], 'is_drums': [True, False, False, False, False], 'track_names': ['Drums', 'Piano', 'Guitar', 'Bass', 'Ensemble'], 'tempo': 120, 'velocity': 100, 'dataset_path': '/Users/mac/Desktop/Brain/MuseGAN/training_data/lastfm_alternative_5b_phrase.npy', 'dataset_name': 'lastfm_alternative_5b_phrase', 'pause_between_samples': 96, 'num_bar': 4, 'num_beat': 4, 'num_pitch': 84, 'num_track': 8, 'num_timestep': 96, 'beat_resolution': 24, 'lowest_pitch': 24}\n",
      "result shape: (1, 1096, 84, 5)\n",
      "result shape: (768, 84, 5)\n",
      "result final shape: (2, 4, 96, 84, 5)\n",
      "padded shape: (2, 480, 128, 5)\n",
      "pianorolls shape: (960, 128, 5)\n",
      "Epoch 3/5\n",
      "90/90 [==============================] - 7s 77ms/step - loss: 0.0150 - acc: 0.9529 - val_loss: 0.0271 - val_acc: 0.6381\n",
      "x_pred shape: (1, 96, 84, 5)\n",
      "result shape: (1, 96, 84, 5)\n",
      "{'track_num': 5, 'program_nums': [0, 0, 24, 32, 48], 'is_drums': [True, False, False, False, False], 'track_names': ['Drums', 'Piano', 'Guitar', 'Bass', 'Ensemble'], 'tempo': 120, 'velocity': 100, 'dataset_path': '/Users/mac/Desktop/Brain/MuseGAN/training_data/lastfm_alternative_5b_phrase.npy', 'dataset_name': 'lastfm_alternative_5b_phrase', 'pause_between_samples': 96, 'num_bar': 4, 'num_beat': 4, 'num_pitch': 84, 'num_track': 8, 'num_timestep': 96, 'beat_resolution': 24, 'lowest_pitch': 24}\n",
      "result shape: (1, 1096, 84, 5)\n",
      "result shape: (768, 84, 5)\n",
      "result final shape: (2, 4, 96, 84, 5)\n",
      "padded shape: (2, 480, 128, 5)\n",
      "pianorolls shape: (960, 128, 5)\n",
      "Epoch 4/5\n",
      "90/90 [==============================] - 8s 87ms/step - loss: 0.0152 - acc: 0.9528 - val_loss: 0.0267 - val_acc: 0.6357\n",
      "x_pred shape: (1, 96, 84, 5)\n",
      "result shape: (1, 96, 84, 5)\n",
      "{'track_num': 5, 'program_nums': [0, 0, 24, 32, 48], 'is_drums': [True, False, False, False, False], 'track_names': ['Drums', 'Piano', 'Guitar', 'Bass', 'Ensemble'], 'tempo': 120, 'velocity': 100, 'dataset_path': '/Users/mac/Desktop/Brain/MuseGAN/training_data/lastfm_alternative_5b_phrase.npy', 'dataset_name': 'lastfm_alternative_5b_phrase', 'pause_between_samples': 96, 'num_bar': 4, 'num_beat': 4, 'num_pitch': 84, 'num_track': 8, 'num_timestep': 96, 'beat_resolution': 24, 'lowest_pitch': 24}\n",
      "result shape: (1, 1096, 84, 5)\n",
      "result shape: (768, 84, 5)\n",
      "result final shape: (2, 4, 96, 84, 5)\n",
      "padded shape: (2, 480, 128, 5)\n",
      "pianorolls shape: (960, 128, 5)\n",
      "Epoch 5/5\n",
      "90/90 [==============================] - 7s 82ms/step - loss: 0.0152 - acc: 0.9532 - val_loss: 0.0269 - val_acc: 0.6393\n",
      "x_pred shape: (1, 96, 84, 5)\n",
      "result shape: (1, 96, 84, 5)\n",
      "{'track_num': 5, 'program_nums': [0, 0, 24, 32, 48], 'is_drums': [True, False, False, False, False], 'track_names': ['Drums', 'Piano', 'Guitar', 'Bass', 'Ensemble'], 'tempo': 120, 'velocity': 100, 'dataset_path': '/Users/mac/Desktop/Brain/MuseGAN/training_data/lastfm_alternative_5b_phrase.npy', 'dataset_name': 'lastfm_alternative_5b_phrase', 'pause_between_samples': 96, 'num_bar': 4, 'num_beat': 4, 'num_pitch': 84, 'num_track': 8, 'num_timestep': 96, 'beat_resolution': 24, 'lowest_pitch': 24}\n",
      "result shape: (1, 1096, 84, 5)\n",
      "result shape: (768, 84, 5)\n",
      "result final shape: (2, 4, 96, 84, 5)\n",
      "padded shape: (2, 480, 128, 5)\n",
      "pianorolls shape: (960, 128, 5)\n"
     ]
    },
    {
     "data": {
      "text/plain": [
       "<keras.callbacks.History at 0x19ad5fb70>"
      ]
     },
     "execution_count": 23,
     "metadata": {},
     "output_type": "execute_result"
    }
   ],
   "source": [
    "# train\n",
    "model.fit(  x = x_train, \n",
    "            y = y_train,   \n",
    "            validation_data = (x_val, y_val),\n",
    "            batch_size = 2,\n",
    "            verbose = 1,\n",
    "            epochs = 5,\n",
    "            callbacks = [print_callback])"
   ]
  },
  {
   "cell_type": "code",
   "execution_count": null,
   "metadata": {},
   "outputs": [],
   "source": [
    "# tensorboard"
   ]
  },
  {
   "cell_type": "code",
   "execution_count": null,
   "metadata": {},
   "outputs": [],
   "source": []
  },
  {
   "cell_type": "code",
   "execution_count": null,
   "metadata": {},
   "outputs": [],
   "source": []
  }
 ],
 "metadata": {
  "kernelspec": {
   "display_name": "Python 3",
   "language": "python",
   "name": "python3"
  },
  "language_info": {
   "codemirror_mode": {
    "name": "ipython",
    "version": 3
   },
   "file_extension": ".py",
   "mimetype": "text/x-python",
   "name": "python",
   "nbconvert_exporter": "python",
   "pygments_lexer": "ipython3",
   "version": "3.6.1"
  }
 },
 "nbformat": 4,
 "nbformat_minor": 2
}
