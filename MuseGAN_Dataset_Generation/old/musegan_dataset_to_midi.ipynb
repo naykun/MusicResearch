{
 "cells": [
  {
   "cell_type": "code",
   "execution_count": 8,
   "metadata": {},
   "outputs": [],
   "source": [
    "import os\n",
    "import numpy as np\n",
    "from pypianoroll import Multitrack, Track\n",
    "from matplotlib import pyplot as plt\n",
    "import pypianoroll as ppr"
   ]
  },
  {
   "cell_type": "code",
   "execution_count": 9,
   "metadata": {},
   "outputs": [],
   "source": [
    "def write_midi(filepath, pianorolls, config):\n",
    "    is_drums = config['is_drums']\n",
    "    track_names = config['track_names']\n",
    "    tempo = config['tempo']\n",
    "    beat_resolution = config['beat_resolution']\n",
    "    \n",
    "    program_nums = None\n",
    "    \n",
    "    if not np.issubdtype(pianorolls.dtype, np.bool_):\n",
    "        raise TypeError(\"Support only binary-valued piano-rolls\")\n",
    "    if isinstance(program_nums, int):\n",
    "        program_nums = [program_nums]\n",
    "    if isinstance(is_drums, int):\n",
    "        is_drums = [is_drums]\n",
    "\n",
    "    if program_nums is None:\n",
    "        program_nums = [0] * len(pianorolls)\n",
    "    if is_drums is None:\n",
    "        is_drums = [False] * len(pianorolls)\n",
    "\n",
    "    multitrack = Multitrack(beat_resolution=beat_resolution, tempo=tempo)\n",
    "    for idx in range(pianorolls.shape[2]):\n",
    "        if track_names is None:\n",
    "            track = Track(pianorolls[..., idx], program_nums[idx],\n",
    "                          is_drums[idx])\n",
    "        else:\n",
    "            track = Track(pianorolls[..., idx], program_nums[idx],\n",
    "                          is_drums[idx], track_names[idx])\n",
    "        multitrack.append_track(track)\n",
    "    multitrack.write(filepath)"
   ]
  },
  {
   "cell_type": "code",
   "execution_count": 10,
   "metadata": {},
   "outputs": [],
   "source": [
    "def save_midi(filepath, phrases, config):\n",
    "    if not np.issubdtype(phrases.dtype, np.bool_):\n",
    "        raise TypeError(\"Support only binary-valued piano-rolls\")\n",
    "\n",
    "    reshaped = phrases.reshape(-1, phrases.shape[1] * phrases.shape[2],\n",
    "                               phrases.shape[3], phrases.shape[4])\n",
    "    \n",
    "    print(\"reshaped shape:\", reshaped.shape)\n",
    "    \n",
    "    pad_width = ((0, 0), (0, config['pause_between_samples']),\n",
    "                 (config['lowest_pitch'],\n",
    "                  128 - config['lowest_pitch'] - config['num_pitch']),\n",
    "                 (0, 0))\n",
    "    \n",
    "    # pad width 表示前补和后补的长度\n",
    "    # print('pad_width:',pad_width)\n",
    "    padded = np.pad(reshaped, pad_width, 'constant')\n",
    "    # print(\"padded shape:\", padded.shape)\n",
    "    pianorolls = padded.reshape(-1, padded.shape[2], padded.shape[3])\n",
    "    # print(\"pianorolls shape:\", pianorolls.shape)\n",
    "    write_midi(filepath, pianorolls, config)"
   ]
  },
  {
   "cell_type": "code",
   "execution_count": 11,
   "metadata": {},
   "outputs": [],
   "source": [
    "config_8b = {\n",
    "    # Music\n",
    "    'track_num': 8,\n",
    "    'programs': [0, 0, 24, 32, 48, 64, 80, 88],\n",
    "    'is_drums': [True, False, False, False, False, False, False, False],\n",
    "    'track_names': ['Drums', 'Piano', 'Guitar', 'Bass', 'Ensemble',\n",
    "                    'Reed', 'Synth Lead','Synth Pad'],\n",
    "    'tempo': 120,\n",
    "    'velocity': 100,\n",
    "    # Dataset\n",
    "    'dataset_path': '/Users/mac/Desktop/Brain/MuseGAN/training_data/lastfm_alternative_8b_phrase.npy',\n",
    "    'dataset_name': 'lastfm_alternative_8b_phrase',\n",
    "    # Playback\n",
    "    'pause_between_samples': 96,\n",
    "    # Data\n",
    "    'num_bar': 4,\n",
    "    'num_beat': 4,\n",
    "    'num_pitch': 84,\n",
    "    'num_track': 8,\n",
    "    'num_timestep': 96,\n",
    "    'beat_resolution': 24,\n",
    "    'lowest_pitch': 24\n",
    "    # MIDI note number of the lowest pitch in data tensors\n",
    "}"
   ]
  },
  {
   "cell_type": "code",
   "execution_count": 12,
   "metadata": {},
   "outputs": [],
   "source": [
    "config_5b = {\n",
    "    # Music\n",
    "    'track_num': 5,\n",
    "    'programs': [0, 0, 24, 32, 48],\n",
    "    'is_drums': [True, False, False, False, False],\n",
    "    'track_names': ['Drums', 'Piano', 'Guitar', 'Bass', 'Ensemble'],\n",
    "    'tempo': 120,\n",
    "    'velocity': 100,\n",
    "    # Dataset\n",
    "    'dataset_path': '/Users/mac/Desktop/Brain/MuseGAN/training_data/lastfm_alternative_5b_phrase.npy',\n",
    "    'dataset_name': 'lastfm_alternative_5b_phrase',\n",
    "    # Playback\n",
    "    'pause_between_samples': 96,\n",
    "    # Data\n",
    "    'num_bar': 4,\n",
    "    'num_beat': 4,\n",
    "    'num_pitch': 84,\n",
    "    'num_track': 8,\n",
    "    'num_timestep': 96,\n",
    "    'beat_resolution': 24,\n",
    "    'lowest_pitch': 24\n",
    "    # MIDI note number of the lowest pitch in data tensors\n",
    "}"
   ]
  },
  {
   "cell_type": "code",
   "execution_count": 13,
   "metadata": {},
   "outputs": [],
   "source": [
    "def ith_song_to_midi(dataset, index, midi_dir, config):\n",
    "    now_song = dataset[index]\n",
    "    midi_name = config['dataset_name']+'_'+str(index)+'.mid'\n",
    "    midi_path = os.path.join(midi_dir, midi_name)\n",
    "    save_midi(midi_path, now_song, config)\n",
    "    print(\"Save %s to %s\" % (midi_name, midi_path))"
   ]
  },
  {
   "cell_type": "code",
   "execution_count": 14,
   "metadata": {},
   "outputs": [
    {
     "name": "stdout",
     "output_type": "stream",
     "text": [
      "reshaped shape: (6, 384, 84, 5)\n",
      "Save lastfm_alternative_5b_phrase_0.mid to /Users/mac/Desktop/test_ppr/lastfm_alternative_5b_phrase_0.mid\n",
      "reshaped shape: (6, 384, 84, 5)\n",
      "Save lastfm_alternative_5b_phrase_1.mid to /Users/mac/Desktop/test_ppr/lastfm_alternative_5b_phrase_1.mid\n",
      "reshaped shape: (6, 384, 84, 5)\n",
      "Save lastfm_alternative_5b_phrase_2.mid to /Users/mac/Desktop/test_ppr/lastfm_alternative_5b_phrase_2.mid\n",
      "reshaped shape: (6, 384, 84, 5)\n",
      "Save lastfm_alternative_5b_phrase_3.mid to /Users/mac/Desktop/test_ppr/lastfm_alternative_5b_phrase_3.mid\n",
      "reshaped shape: (6, 384, 84, 5)\n",
      "Save lastfm_alternative_5b_phrase_4.mid to /Users/mac/Desktop/test_ppr/lastfm_alternative_5b_phrase_4.mid\n",
      "reshaped shape: (6, 384, 84, 5)\n",
      "Save lastfm_alternative_5b_phrase_5.mid to /Users/mac/Desktop/test_ppr/lastfm_alternative_5b_phrase_5.mid\n",
      "reshaped shape: (6, 384, 84, 5)\n",
      "Save lastfm_alternative_5b_phrase_6.mid to /Users/mac/Desktop/test_ppr/lastfm_alternative_5b_phrase_6.mid\n",
      "reshaped shape: (6, 384, 84, 5)\n",
      "Save lastfm_alternative_5b_phrase_7.mid to /Users/mac/Desktop/test_ppr/lastfm_alternative_5b_phrase_7.mid\n",
      "reshaped shape: (6, 384, 84, 5)\n",
      "Save lastfm_alternative_5b_phrase_8.mid to /Users/mac/Desktop/test_ppr/lastfm_alternative_5b_phrase_8.mid\n",
      "reshaped shape: (6, 384, 84, 5)\n",
      "Save lastfm_alternative_5b_phrase_9.mid to /Users/mac/Desktop/test_ppr/lastfm_alternative_5b_phrase_9.mid\n",
      "reshaped shape: (6, 384, 84, 5)\n",
      "Save lastfm_alternative_5b_phrase_10.mid to /Users/mac/Desktop/test_ppr/lastfm_alternative_5b_phrase_10.mid\n",
      "reshaped shape: (6, 384, 84, 5)\n",
      "Save lastfm_alternative_5b_phrase_11.mid to /Users/mac/Desktop/test_ppr/lastfm_alternative_5b_phrase_11.mid\n",
      "reshaped shape: (6, 384, 84, 5)\n",
      "Save lastfm_alternative_5b_phrase_12.mid to /Users/mac/Desktop/test_ppr/lastfm_alternative_5b_phrase_12.mid\n",
      "reshaped shape: (6, 384, 84, 5)\n",
      "Save lastfm_alternative_5b_phrase_13.mid to /Users/mac/Desktop/test_ppr/lastfm_alternative_5b_phrase_13.mid\n",
      "reshaped shape: (6, 384, 84, 5)\n",
      "Save lastfm_alternative_5b_phrase_14.mid to /Users/mac/Desktop/test_ppr/lastfm_alternative_5b_phrase_14.mid\n",
      "reshaped shape: (6, 384, 84, 5)\n",
      "Save lastfm_alternative_5b_phrase_15.mid to /Users/mac/Desktop/test_ppr/lastfm_alternative_5b_phrase_15.mid\n",
      "reshaped shape: (6, 384, 84, 5)\n",
      "Save lastfm_alternative_5b_phrase_16.mid to /Users/mac/Desktop/test_ppr/lastfm_alternative_5b_phrase_16.mid\n",
      "reshaped shape: (6, 384, 84, 5)\n",
      "Save lastfm_alternative_5b_phrase_17.mid to /Users/mac/Desktop/test_ppr/lastfm_alternative_5b_phrase_17.mid\n",
      "reshaped shape: (6, 384, 84, 5)\n",
      "Save lastfm_alternative_5b_phrase_18.mid to /Users/mac/Desktop/test_ppr/lastfm_alternative_5b_phrase_18.mid\n",
      "reshaped shape: (6, 384, 84, 5)\n",
      "Save lastfm_alternative_5b_phrase_19.mid to /Users/mac/Desktop/test_ppr/lastfm_alternative_5b_phrase_19.mid\n"
     ]
    }
   ],
   "source": [
    "midi_dir = '/Users/mac/Desktop/test_ppr/'\n",
    "config = config_5b\n",
    "dataset = np.load(config['dataset_path'])\n",
    "for i in range(20):\n",
    "    ith_song_to_midi(dataset, i, midi_dir, config)"
   ]
  },
  {
   "cell_type": "code",
   "execution_count": null,
   "metadata": {},
   "outputs": [],
   "source": []
  },
  {
   "cell_type": "code",
   "execution_count": null,
   "metadata": {},
   "outputs": [],
   "source": []
  }
 ],
 "metadata": {
  "kernelspec": {
   "display_name": "Python 3",
   "language": "python",
   "name": "python3"
  },
  "language_info": {
   "codemirror_mode": {
    "name": "ipython",
    "version": 3
   },
   "file_extension": ".py",
   "mimetype": "text/x-python",
   "name": "python",
   "nbconvert_exporter": "python",
   "pygments_lexer": "ipython3",
   "version": "3.6.1"
  }
 },
 "nbformat": 4,
 "nbformat_minor": 2
}
