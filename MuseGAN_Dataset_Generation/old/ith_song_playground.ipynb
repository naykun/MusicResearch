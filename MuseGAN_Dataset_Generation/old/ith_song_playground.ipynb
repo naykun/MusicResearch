{
 "cells": [
  {
   "cell_type": "code",
   "execution_count": null,
   "metadata": {},
   "outputs": [],
   "source": [
    "import os\n",
    "import numpy as np\n",
    "from pypianoroll import Multitrack, Track\n",
    "from matplotlib import pyplot as plt\n",
    "import pypianoroll as ppr\n",
    "\n",
    "# from midi_io import *"
   ]
  },
  {
   "cell_type": "code",
   "execution_count": null,
   "metadata": {},
   "outputs": [],
   "source": [
    "\n",
    "programs = [0, 0, 24, 32, 48, 64, 80, 88]\n",
    "is_drums = [True, False, False, False, False, False, False, False]\n",
    "track_num = len(programs)\n",
    "#track_names = ['Drums', 'Piano', 'Guitar', 'Bass', 'String']\n",
    "track_names = ['Drums', 'Piano', 'Guitar', 'Bass', 'Ensemble',\n",
    "               'Reed', 'Synth Lead','Synth Pad']\n",
    "# read dataset\n",
    "dataset_path = '/Users/mac/Desktop/Brain/MuseGAN/training_data/lastfm_alternative_8b_phrase.npy'\n",
    "\n",
    "#dataset_path = '/Users/mac/Downloads/lpd/lpd_cleansed/B/B/C/TRBBCJH128F930C970/9b26da87aff1395e17e10610a6dbff78.npz'\n",
    "\n",
    "dataset = np.load(dataset_path)\n",
    "dataset_name = 'lastfm_alternative_8b_phrase'\n"
   ]
  },
  {
   "cell_type": "code",
   "execution_count": null,
   "metadata": {},
   "outputs": [],
   "source": [
    "#track_names = ['bass', 'drums', 'guitar', 'strings', 'piano',]\n",
    "track_num = 5\n",
    "track_names = ['Drums', 'Piano', 'Guitar', 'Bass', 'String']\n",
    "programs = [0, 0, 24, 32, 48]\n",
    "is_drums = [True, False, False, False, False]\n",
    "# track_names = ['Drums', 'Piano', 'Guitar','Bass', 'Ensemble', 'Reed', 'Synth Lead', 'Synth Pad']\n",
    "# read dataset\n",
    "dataset_path = '/Users/mac/Desktop/Brain/MuseGAN/training_data/lastfm_alternative_5b_phrase.npy'\n",
    "dataset = np.load(dataset_path)\n",
    "dataset_name = 'lastfm_alternative_5b_phrase'\n"
   ]
  },
  {
   "cell_type": "code",
   "execution_count": null,
   "metadata": {},
   "outputs": [],
   "source": [
    "def ith_song_to_midi(dataset, dataset_name, track_num, \n",
    "                     programs, is_drums, track_names, index, midi_dir):\n",
    "    now_song = dataset[index][0]\n",
    "    now_song = np.reshape(now_song, (4*96, 84, track_num), 'C')\n",
    "    \n",
    "    tracks = []\n",
    "    \n",
    "    for i in range(track_num):\n",
    "        tracks.append(now_song[:,:,i])\n",
    "    \n",
    "    padded_tracks = []\n",
    "\n",
    "    for i in range(track_num):\n",
    "        temp_pr = np.zeros((len(tracks[i]),128))\n",
    "        # 肯定存在简单写法\n",
    "        for x in range(len(tracks[i])):\n",
    "            for y in range(len(tracks[i][0])):\n",
    "                if tracks[0][x][y] == True:\n",
    "                    temp_pr[x][y+24] = 100\n",
    "        padded_tracks.append(temp_pr)\n",
    "\n",
    "    padded_tracks = np.array(padded_tracks)\n",
    "    \n",
    "    print(padded_tracks.shape)\n",
    "    \n",
    "    music_tracks = []\n",
    "    for i in range(track_num):\n",
    "        temp_track = Track(    pianoroll=padded_tracks[i], \n",
    "                               program=programs[i], \n",
    "                               is_drum = is_drums[i], \n",
    "                               name=track_names[i])\n",
    "        music_tracks.append(temp_track)\n",
    "    \n",
    "    music_tracks = np.array(music_tracks)\n",
    "    multitrack = Multitrack(tracks=music_tracks, tempo=120.0,\n",
    "                        # downbeat=[0, 96, 192, 288], \n",
    "                        beat_resolution=24)\n",
    "    \n",
    "    multitrack.write(os.path.join(midi_dir, dataset_name+'_'+str(index)+'.mid'))\n",
    "    "
   ]
  },
  {
   "cell_type": "code",
   "execution_count": null,
   "metadata": {},
   "outputs": [],
   "source": [
    "for i in range(10,11):\n",
    "    ith_song_to_midi(dataset = dataset, \n",
    "                     dataset_name = dataset_name,\n",
    "                     track_num = track_num, \n",
    "                     programs = programs, \n",
    "                     is_drums = is_drums,\n",
    "                     track_names = track_names, \n",
    "                     index = i,\n",
    "                     midi_dir = '/Users/mac/Desktop/test_ppr')"
   ]
  },
  {
   "cell_type": "markdown",
   "metadata": {},
   "source": [
    "#### "
   ]
  },
  {
   "cell_type": "code",
   "execution_count": 2,
   "metadata": {},
   "outputs": [],
   "source": [
    "def write_midi(filepath, pianorolls, program_nums=None, is_drums=None,\n",
    "               track_names=None, velocity=100, tempo=120.0, beat_resolution=24):\n",
    "    \"\"\"\n",
    "    Write the given piano-roll(s) to a single MIDI file.\n",
    "\n",
    "    Arguments\n",
    "    ---------\n",
    "    filepath : str\n",
    "        Path to save the MIDI file.\n",
    "    pianorolls : np.array, ndim=3\n",
    "        The piano-roll array to be written to the MIDI file. Shape is\n",
    "        (num_timestep, num_pitch, num_track).\n",
    "    program_nums : int or list of int\n",
    "        MIDI program number(s) to be assigned to the MIDI track(s). Available\n",
    "        values are 0 to 127. Must have the same length as `pianorolls`.\n",
    "    is_drums : list of bool\n",
    "        Drum indicator(s) to be assigned to the MIDI track(s). True for\n",
    "        drums. False for other instruments. Must have the same length as\n",
    "        `pianorolls`.\n",
    "    track_names : list of str\n",
    "        Track name(s) to be assigned to the MIDI track(s).\n",
    "    \"\"\"\n",
    "    if not np.issubdtype(pianorolls.dtype, np.bool_):\n",
    "        raise TypeError(\"Support only binary-valued piano-rolls\")\n",
    "    if isinstance(program_nums, int):\n",
    "        program_nums = [program_nums]\n",
    "    if isinstance(is_drums, int):\n",
    "        is_drums = [is_drums]\n",
    "\n",
    "    if pianorolls.shape[2] != len(program_nums):\n",
    "        raise ValueError(\"`pianorolls` and `program_nums` must have the same\"\n",
    "                         \"length\")\n",
    "    if pianorolls.shape[2] != len(is_drums):\n",
    "        raise ValueError(\"`pianorolls` and `is_drums` must have the same\"\n",
    "                         \"length\")\n",
    "    if program_nums is None:\n",
    "        program_nums = [0] * len(pianorolls)\n",
    "    if is_drums is None:\n",
    "        is_drums = [False] * len(pianorolls)\n",
    "\n",
    "    multitrack = Multitrack(beat_resolution=beat_resolution, tempo=tempo)\n",
    "    for idx in range(pianorolls.shape[2]):\n",
    "        if track_names is None:\n",
    "            track = Track(pianorolls[..., idx], program_nums[idx],\n",
    "                          is_drums[idx])\n",
    "        else:\n",
    "            track = Track(pianorolls[..., idx], program_nums[idx],\n",
    "                          is_drums[idx], track_names[idx])\n",
    "        multitrack.append_track(track)\n",
    "    multitrack.write(filepath)"
   ]
  },
  {
   "cell_type": "code",
   "execution_count": 3,
   "metadata": {},
   "outputs": [],
   "source": [
    "def save_midi(filepath, phrases, config):\n",
    "    \"\"\"\n",
    "    Save a batch of phrases to a single MIDI file.\n",
    "\n",
    "    Arguments\n",
    "    ---------\n",
    "    filepath : str\n",
    "        Path to save the image grid.\n",
    "    phrases : list of np.array\n",
    "        Phrase arrays to be saved. All arrays must have the same shape.\n",
    "    pause : int\n",
    "        Length of pauses (in timestep) to be inserted between phrases.\n",
    "        Default to 0.\n",
    "    \"\"\"\n",
    "    if not np.issubdtype(phrases.dtype, np.bool_):\n",
    "        raise TypeError(\"Support only binary-valued piano-rolls\")\n",
    "\n",
    "    reshaped = phrases.reshape(-1, phrases.shape[1] * phrases.shape[2],\n",
    "                               phrases.shape[3], phrases.shape[4])\n",
    "    pad_width = ((0, 0), (0, config['pause_between_samples']),\n",
    "                 (config['lowest_pitch'],\n",
    "                  128 - config['lowest_pitch'] - config['num_pitch']),\n",
    "                 (0, 0))\n",
    "    padded = np.pad(reshaped, pad_width, 'constant')\n",
    "    pianorolls = padded.reshape(-1, padded.shape[2], padded.shape[3])\n",
    "\n",
    "    write_midi(filepath, pianorolls, config['programs'], config['is_drums'],\n",
    "               tempo=config['tempo'])\n"
   ]
  },
  {
   "cell_type": "code",
   "execution_count": 4,
   "metadata": {},
   "outputs": [],
   "source": [
    "programs = [0, 0, 24, 32, 48, 64, 80, 88]\n",
    "is_drums = [True, False, False, False, False, False, False, False]\n",
    "track_num = len(programs)\n",
    "#track_names = ['Drums', 'Piano', 'Guitar', 'Bass', 'String']\n",
    "track_names = ['Drums', 'Piano', 'Guitar', 'Bass', 'Ensemble',\n",
    "               'Reed', 'Synth Lead','Synth Pad']\n",
    "# read dataset\n",
    "dataset_path = '/Users/mac/Desktop/Brain/MuseGAN/training_data/lastfm_alternative_8b_phrase.npy'\n",
    "\n",
    "#dataset_path = '/Users/mac/Downloads/lpd/lpd_cleansed/B/B/C/TRBBCJH128F930C970/9b26da87aff1395e17e10610a6dbff78.npz'\n",
    "\n",
    "dataset = np.load(dataset_path)\n",
    "dataset_name = 'lastfm_alternative_8b_phrase'"
   ]
  },
  {
   "cell_type": "code",
   "execution_count": 7,
   "metadata": {},
   "outputs": [],
   "source": [
    "song = dataset[1000]\n",
    "config = {\n",
    "    'programs': programs, \n",
    "    'is_drums': is_drums,\n",
    "    'tempo':120,\n",
    "    # Playback\n",
    "    'pause_between_samples': 96,\n",
    "    'tempo': 90.,\n",
    "    # Data\n",
    "    'num_bar': 4,\n",
    "    'num_beat': 4,\n",
    "    'num_pitch': 84,\n",
    "    'num_track': 8,\n",
    "    'num_timestep': 96,\n",
    "    'beat_resolution': 24,\n",
    "    'lowest_pitch': 24\n",
    "    # MIDI note number of the lowest pitch in data tensors\n",
    "}\n",
    "\n",
    "save_midi('/Users/mac/Desktop/test_ppr/test_musegan_8b_1000.mid', song, config)"
   ]
  },
  {
   "cell_type": "code",
   "execution_count": 8,
   "metadata": {},
   "outputs": [
    {
     "data": {
      "text/plain": [
       "(6, 4, 96, 84, 8)"
      ]
     },
     "execution_count": 8,
     "metadata": {},
     "output_type": "execute_result"
    }
   ],
   "source": [
    "song.shape"
   ]
  },
  {
   "cell_type": "code",
   "execution_count": null,
   "metadata": {},
   "outputs": [],
   "source": []
  }
 ],
 "metadata": {
  "kernelspec": {
   "display_name": "Python 3",
   "language": "python",
   "name": "python3"
  },
  "language_info": {
   "codemirror_mode": {
    "name": "ipython",
    "version": 3
   },
   "file_extension": ".py",
   "mimetype": "text/x-python",
   "name": "python",
   "nbconvert_exporter": "python",
   "pygments_lexer": "ipython3",
   "version": "3.6.1"
  }
 },
 "nbformat": 4,
 "nbformat_minor": 2
}
