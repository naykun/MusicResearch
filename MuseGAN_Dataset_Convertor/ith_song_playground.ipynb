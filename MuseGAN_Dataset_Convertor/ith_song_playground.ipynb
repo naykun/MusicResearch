{
 "cells": [
  {
   "cell_type": "code",
   "execution_count": 1,
   "metadata": {},
   "outputs": [],
   "source": [
    "import os\n",
    "import numpy as np\n",
    "from pypianoroll import Multitrack, Track\n",
    "from matplotlib import pyplot as plt\n",
    "import pypianoroll as ppr"
   ]
  },
  {
   "cell_type": "code",
   "execution_count": 78,
   "metadata": {},
   "outputs": [],
   "source": [
    "'''\n",
    "programs = [0, 0, 24, 32, 48, 64, 80, 88]\n",
    "is_drums = [True, False, False, False, False, False, False, False]\n",
    "track_num = len(programs)\n",
    "#track_names = ['Drums', 'Piano', 'Guitar', 'Bass', 'String']\n",
    "track_names = ['Drums', 'Piano', 'Guitar', 'Bass', 'Ensemble',\n",
    "               'Reed', 'Synth Lead','Synth Pad']\n",
    "# read dataset\n",
    "dataset_path = '/Users/mac/Desktop/Brain/MuseGAN/training_data/lastfm_alternative_8b_phrase.npy'\n",
    "dataset = np.load(dataset_path)\n",
    "dataset_name = 'lastfm_alternative_8b_phrase'\n",
    "'''"
   ]
  },
  {
   "cell_type": "code",
   "execution_count": 117,
   "metadata": {},
   "outputs": [],
   "source": [
    "#track_names = ['bass', 'drums', 'guitar', 'strings', 'piano',]\n",
    "track_num = 5\n",
    "track_names = ['Drums', 'Piano', 'Guitar', 'Bass', 'String']\n",
    "programs = [0, 0, 24, 32, 48]\n",
    "is_drums = [True, False, False, False, False]\n",
    "# track_names = ['Drums', 'Piano', 'Guitar','Bass', 'Ensemble', 'Reed', 'Synth Lead', 'Synth Pad']\n",
    "# read dataset\n",
    "dataset_path = '/Users/mac/Desktop/Brain/MuseGAN/training_data/lastfm_alternative_5b_phrase.npy'\n",
    "dataset = np.load(dataset_path)\n",
    "dataset_name = 'lastfm_alternative_5b_phrase'\n"
   ]
  },
  {
   "cell_type": "code",
   "execution_count": 122,
   "metadata": {},
   "outputs": [],
   "source": [
    "def ith_song_to_midi(dataset, dataset_name, track_num, \n",
    "                     programs, is_drums, track_names, index, midi_dir):\n",
    "    now_song = dataset[index][0][0]\n",
    "    now_song = np.reshape(now_song, (96, 84, track_num), 'F')\n",
    "    \n",
    "    tracks = []\n",
    "    \n",
    "    for i in range(track_num):\n",
    "        tracks.append(now_song[:,:,i])\n",
    "    \n",
    "    padded_tracks = []\n",
    "\n",
    "    for i in range(track_num):\n",
    "        temp_pr = np.zeros((len(tracks[i]),128))\n",
    "        # 肯定存在简单写法\n",
    "        for x in range(len(tracks[i])):\n",
    "            for y in range(len(tracks[i][0])):\n",
    "                if tracks[0][x][y] == True:\n",
    "                    temp_pr[x][y+24] = 100\n",
    "        padded_tracks.append(temp_pr)\n",
    "\n",
    "    padded_tracks = np.array(padded_tracks)\n",
    "    \n",
    "    print(padded_tracks.shape)\n",
    "    \n",
    "    music_tracks = []\n",
    "    for i in range(track_num):\n",
    "        temp_track = Track(    pianoroll=padded_tracks[i], \n",
    "                               program=programs[i], \n",
    "                               is_drum = is_drums[i], \n",
    "                               name=track_names[i])\n",
    "        music_tracks.append(temp_track)\n",
    "    \n",
    "    music_tracks = np.array(music_tracks)\n",
    "    multitrack = Multitrack(tracks=music_tracks, tempo=120.0,\n",
    "                        # downbeat=[0, 96, 192, 288], \n",
    "                        beat_resolution=24)\n",
    "    \n",
    "    multitrack.write(os.path.join(midi_dir, dataset_name+'_'+str(index)+'.mid'))\n",
    "    "
   ]
  },
  {
   "cell_type": "code",
   "execution_count": 123,
   "metadata": {},
   "outputs": [
    {
     "name": "stdout",
     "output_type": "stream",
     "text": [
      "(5, 96, 128)\n",
      "(5, 96, 128)\n",
      "(5, 96, 128)\n",
      "(5, 96, 128)\n",
      "(5, 96, 128)\n",
      "(5, 96, 128)\n",
      "(5, 96, 128)\n",
      "(5, 96, 128)\n",
      "(5, 96, 128)\n",
      "(5, 96, 128)\n"
     ]
    }
   ],
   "source": [
    "for i in range(400,410):\n",
    "    ith_song_to_midi(dataset = dataset, \n",
    "                     dataset_name = dataset_name,\n",
    "                     track_num = track_num, \n",
    "                     programs = programs, \n",
    "                     is_drums = is_drums,\n",
    "                     track_names = track_names, \n",
    "                     index = i,\n",
    "                     midi_dir = '/Users/mac/Desktop/test_ppr')"
   ]
  },
  {
   "cell_type": "markdown",
   "metadata": {},
   "source": [
    "#### "
   ]
  },
  {
   "cell_type": "code",
   "execution_count": null,
   "metadata": {},
   "outputs": [],
   "source": []
  }
 ],
 "metadata": {
  "kernelspec": {
   "display_name": "Python 3",
   "language": "python",
   "name": "python3"
  },
  "language_info": {
   "codemirror_mode": {
    "name": "ipython",
    "version": 3
   },
   "file_extension": ".py",
   "mimetype": "text/x-python",
   "name": "python",
   "nbconvert_exporter": "python",
   "pygments_lexer": "ipython3",
   "version": "3.6.1"
  }
 },
 "nbformat": 4,
 "nbformat_minor": 2
}
