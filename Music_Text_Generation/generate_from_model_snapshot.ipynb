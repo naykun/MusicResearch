{
 "cells": [
  {
   "cell_type": "code",
   "execution_count": 2,
   "metadata": {},
   "outputs": [],
   "source": [
    "from __future__ import print_function\n",
    "from keras.callbacks import LambdaCallback\n",
    "from keras.models import Sequential\n",
    "from keras.layers import Dense, Activation\n",
    "from keras.layers import LSTM\n",
    "from keras.optimizers import RMSprop, Adam\n",
    "from keras.utils.data_utils import get_file\n",
    "from keras.callbacks import TensorBoard\n",
    "from keras.utils.np_utils import to_categorical\n",
    "from keras.models import load_model\n",
    "\n",
    "import time\n",
    "import numpy as np\n",
    "import random\n",
    "import os\n",
    "from math import *\n",
    "\n",
    "from keras.callbacks import ModelCheckpoint, LearningRateScheduler\n",
    "from keras.callbacks import LambdaCallback\n",
    "\n",
    "from my_to_midi import *"
   ]
  },
  {
   "cell_type": "code",
   "execution_count": 6,
   "metadata": {},
   "outputs": [],
   "source": [
    "model_path = '/Users/mac/Desktop/Brain/MusicResearch/Music_Text_Generation/Model_logdir/Bach_batchS1024_epochs200_units512_maxL32_step1_embeddingL8_2018-07-30_102638/epoch200.h5'\n",
    "model = load_model(model_path)"
   ]
  },
  {
   "cell_type": "code",
   "execution_count": 7,
   "metadata": {},
   "outputs": [],
   "source": [
    "def sample(preds, temperature=1.0):\n",
    "    # helper function to sample an index from a probability array\n",
    "    preds = np.asarray(preds).astype('float64')\n",
    "    preds = np.log(preds) / temperature\n",
    "    exp_preds = np.exp(preds)\n",
    "    preds = exp_preds / np.sum(exp_preds)\n",
    "    probas = np.random.multinomial(1, preds, 1)\n",
    "    return np.argmax(probas)"
   ]
  },
  {
   "cell_type": "code",
   "execution_count": 8,
   "metadata": {},
   "outputs": [],
   "source": [
    "def generate_music(epoch, text, diversity, start_index, is_train=False):\n",
    "    print_fn('----- diversity: %.1f' % diversity)\n",
    "\n",
    "    generated = ''\n",
    "    sentence = text[start_index: start_index + maxlen]\n",
    "    generated += sentence\n",
    "    print_fn('----- Generating with seed: \"' + sentence + '\"')\n",
    "    sys.stdout.write(generated)\n",
    "\n",
    "    for i in range(generate_length):\n",
    "        x_pred = np.zeros((1, maxlen, len(chars) * embedding_length))\n",
    "        for t, char in enumerate(sentence):\n",
    "            for idx in range(embedding_length):\n",
    "                x_pred[0, t, idx * embedding_length + char_indices[char]] = 1.\n",
    "\n",
    "        preds = model.predict(x_pred, verbose=0)[0]\n",
    "        next_index = sample(preds, diversity)\n",
    "        next_char = indices_char[next_index]\n",
    "\n",
    "        generated += next_char\n",
    "        sentence = sentence[1:] + next_char\n",
    "\n",
    "        sys.stdout.write(next_char)\n",
    "        sys.stdout.flush()\n",
    "\n",
    "    if is_train:\n",
    "        log_name = \"epoch%d_train_diversity%02d\" % (epoch + 1, int(diversity * 10))\n",
    "    else:\n",
    "        if start_index == 0:\n",
    "            log_name = \"epoch%d_first_diversity%02d\" % (epoch + 1, int(diversity * 10))\n",
    "        else:\n",
    "            log_name = \"epoch%d_random_diversity%02d\" % (epoch + 1, int(diversity * 10))\n",
    "\n",
    "    text_log_path = os.path.join(text_log_dir, log_name + \".txt\")\n",
    "    with open(text_log_path, \"w\") as text_log_file:\n",
    "        text_log_file.write(generated + \"\\n\")\n",
    "        text_log_file.close()\n",
    "\n",
    "    print_fn(\"Write %s.txt to %s\" % (log_name, text_log_dir))\n",
    "\n",
    "    events = text_to_events(generated)\n",
    "    events_to_midi('basic_rnn', events, midi_log_dir, log_name)\n",
    "\n",
    "    print_fn(\"Write %s.midi to %s\" % (log_name, midi_log_dir))\n",
    "\n",
    "    model_name = \"epoch%d.h5\" % (epoch+1)\n",
    "    model_path = os.path.join(model_log_dir, model_name)\n",
    "    model.save(model_path)\n",
    "    print_fn(\"Save model %s.h5 to %s\" % (model_name, model_log_dir))"
   ]
  },
  {
   "cell_type": "code",
   "execution_count": null,
   "metadata": {},
   "outputs": [],
   "source": [
    "def baseline_music(epoch, text, start_index, is_train=False):\n",
    "    print_fn('----- baseline')\n",
    "\n",
    "    generated = ''\n",
    "    sentence = text[start_index: start_index + maxlen]\n",
    "    generated += sentence\n",
    "\n",
    "    generated += eval_text[start_index + maxlen: min(len(text), start_index + maxlen + generate_length)]\n",
    "    sys.stdout.write(generated)\n",
    "\n",
    "    if is_train:\n",
    "        log_name = \"epoch%d_train_baseline\" % (epoch + 1)\n",
    "    else:\n",
    "        if start_index == 0:\n",
    "            log_name = \"epoch%d_first_baseline\" % (epoch + 1)\n",
    "        else:\n",
    "            log_name = \"epoch%d_random_baseline\" % (epoch + 1)\n",
    "\n",
    "    text_log_path = os.path.join(text_log_dir, log_name + \".txt\")\n",
    "    with open(text_log_path, \"w\") as text_log_file:\n",
    "        text_log_file.write(generated + \"\\n\")\n",
    "        text_log_file.close()\n",
    "\n",
    "    print_fn(\"Write %s.txt to %s\" % (log_name, text_log_dir))\n",
    "\n",
    "    events = text_to_events(generated)\n",
    "    events_to_midi('basic_rnn', events, midi_log_dir, log_name)\n",
    "\n",
    "    print_fn(\"Write %s.midi to %s\" % (log_name, midi_log_dir))"
   ]
  },
  {
   "cell_type": "code",
   "execution_count": 5,
   "metadata": {},
   "outputs": [
    {
     "name": "stdout",
     "output_type": "stream",
     "text": [
      "_________________________________________________________________\n",
      "Layer (type)                 Output Shape              Param #   \n",
      "=================================================================\n",
      "dense_1 (Dense)              (None, 32, 16)            4880      \n",
      "_________________________________________________________________\n",
      "lstm_1 (LSTM)                (None, 512)               1083392   \n",
      "_________________________________________________________________\n",
      "dense_2 (Dense)              (None, 38)                19494     \n",
      "_________________________________________________________________\n",
      "activation_1 (Activation)    (None, 38)                0         \n",
      "=================================================================\n",
      "Total params: 1,107,766\n",
      "Trainable params: 1,107,766\n",
      "Non-trainable params: 0\n",
      "_________________________________________________________________\n"
     ]
    }
   ],
   "source": [
    "def generate_from_model(epoch, logs):\n",
    "    print_fn(\"\")\n",
    "    print_fn('----- Generating Music from model: test')\n",
    "\n",
    "    start_index = random.randint(0, len(eval_text) - maxlen - 1)\n",
    "\n",
    "    baseline_music(epoch=epoch, text=eval_text, start_index=0)\n",
    "    baseline_music(epoch=epoch, text=eval_text, start_index=start_index)\n",
    "    baseline_music(epoch=epoch, text=train_text, start_index=start_index, is_train=True)\n",
    "\n",
    "    for diversity in [0.2, 0.5, 0.8, 1.0, 1.2]:\n",
    "        generate_music(epoch=epoch, text=eval_text, diversity=diversity, start_index=0)\n",
    "        generate_music(epoch=epoch, text=eval_text, diversity=diversity, start_index=start_index)\n",
    "        generate_music(epoch=epoch, text=train_text, diversity=diversity, start_index=start_index, is_train=True)\n",
    "\n",
    "print_fn(\"*\"*20+exp_name+\"*\"*20)\n",
    "print_fn('x_train shape:'+str(np.shape(x_train)) )\n",
    "print_fn('y_train shape:'+str(np.shape(y_train)) )\n",
    "\n"
   ]
  },
  {
   "cell_type": "code",
   "execution_count": 9,
   "metadata": {},
   "outputs": [
    {
     "name": "stdout",
     "output_type": "stream",
     "text": [
      "No match!\n"
     ]
    }
   ],
   "source": [
    "import re\n",
    "\n",
    "exp_name = 'Bach_batchS1024_epochs200_units512_maxL128_step1_embeddingL1_2018-07-30_061429'\n",
    "\n",
    "exp_pat = r\"([a-zA-Z]*)_batchS(\\d*)_epochs(\\d*)_units(\\d*)_denseS(\\d*)_maxL(\\d*)_step(\\d*)_embeddingL(\\d*)_(.*)\"\n",
    "exp_mat = re.match(exp_pat, exp_name)\n",
    "\n",
    "if exp_mat:\n",
    "    batch_size = exp_mat.group(1)\n",
    "    epochs = exp_mat.group(2)\n",
    "    units = exp_mat.group(3)\n",
    "    dense_size = exp_mat.group(4)\n",
    "    maxlen = exp_mat.group(5)\n",
    "    step = exp_mat.group(6)\n",
    "    embedding_length = exp_mat.group(7)\n",
    "    date_and_time = exp_mat.group(8)\n",
    "else:\n",
    "    print(\"No match!\")\n"
   ]
  },
  {
   "cell_type": "code",
   "execution_count": null,
   "metadata": {},
   "outputs": [],
   "source": []
  }
 ],
 "metadata": {
  "kernelspec": {
   "display_name": "Python 3",
   "language": "python",
   "name": "python3"
  },
  "language_info": {
   "codemirror_mode": {
    "name": "ipython",
    "version": 3
   },
   "file_extension": ".py",
   "mimetype": "text/x-python",
   "name": "python",
   "nbconvert_exporter": "python",
   "pygments_lexer": "ipython3",
   "version": "3.6.1"
  }
 },
 "nbformat": 4,
 "nbformat_minor": 2
}
