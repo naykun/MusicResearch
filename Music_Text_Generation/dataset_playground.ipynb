{
 "cells": [
  {
   "cell_type": "code",
   "execution_count": 2,
   "metadata": {},
   "outputs": [
    {
     "name": "stdout",
     "output_type": "stream",
     "text": [
      "INFO:tensorflow:Counting records in /Users/mac/Desktop/Brain/Simplified_Magenta/Wikifonia_basic_rnn_sequence_examples/training_melodies.tfrecord.\n",
      "INFO:tensorflow:Total records: 6668\n",
      "INFO:tensorflow:[<tf.Tensor 'ParseSingleSequenceExample_1/ParseSingleSequenceExample:0' shape=(?, 38) dtype=float32>, <tf.Tensor 'ParseSingleSequenceExample_1/ParseSingleSequenceExample:1' shape=(?,) dtype=int64>, <tf.Tensor 'strided_slice_1:0' shape=() dtype=int32>]\n",
      "inputs (6668, 511, 38) <class 'numpy.ndarray'> [ 0  0  0  0  0  0  0  0 18  0]\n",
      "labels (6668, 511) <class 'numpy.ndarray'> [ 0  0  0  0  0  0  0 18  0  0]\n",
      "Time: 2.771904945373535\n",
      "inputs shape (6668, 511, 38)\n",
      "inputs type <class 'numpy.ndarray'>\n",
      "Finished! And then use ipdb for debug and watch the variables\n"
     ]
    }
   ],
   "source": [
    "from sequence_example_lib import *\n",
    "import os\n",
    "import tensorflow as tf\n",
    "import numpy as np\n",
    "import time\n",
    "\n",
    "sequence_example_file = ('/Users/mac/Desktop/Brain/Simplified_Magenta/Wikifonia_basic_rnn_sequence_examples/training_melodies.tfrecord')\n",
    "sequence_example_file_paths = tf.gfile.Glob(\n",
    "    os.path.expanduser(sequence_example_file))\n",
    "\n",
    "start_time = time.time()\n",
    "inputs, labels, lengths = get_numpy_from_tf_sequence_example( input_size=38,\n",
    "                                    sequence_example_file_paths = sequence_example_file_paths,\n",
    "                                    shuffle = False)\n",
    "print('Time:',time.time() - start_time)\n",
    "print('inputs shape',inputs.shape)\n",
    "print('inputs type',type(inputs))\n",
    "print('Finished! And then use ipdb for debug and watch the variables')"
   ]
  },
  {
   "cell_type": "code",
   "execution_count": null,
   "metadata": {},
   "outputs": [],
   "source": [
    "def to_events(x):\n",
    "    return np.argmax(x, axis=1)"
   ]
  },
  {
   "cell_type": "code",
   "execution_count": null,
   "metadata": {},
   "outputs": [],
   "source": [
    "input_events = []\n",
    "for i in inputs:\n",
    "    input_events.append(to_events(i))"
   ]
  },
  {
   "cell_type": "code",
   "execution_count": null,
   "metadata": {},
   "outputs": [],
   "source": [
    "def to_real_length(x):\n",
    "    while(x[len(x)-1]==0):\n",
    "        x.pop()"
   ]
  },
  {
   "cell_type": "code",
   "execution_count": null,
   "metadata": {},
   "outputs": [],
   "source": [
    "real_inputs = []\n",
    "for i in input_events:\n",
    "    d = list(i)\n",
    "    to_real_length(d)\n",
    "    real_inputs.append(d)"
   ]
  },
  {
   "cell_type": "code",
   "execution_count": null,
   "metadata": {},
   "outputs": [],
   "source": [
    "real_length = []\n",
    "for i in real_inputs:\n",
    "    real_length.append(len(i))\n",
    "real_length = np.array(real_length)"
   ]
  },
  {
   "cell_type": "code",
   "execution_count": null,
   "metadata": {},
   "outputs": [],
   "source": [
    "print(real_length.min())\n",
    "print(real_length.max())\n",
    "print(real_length.mean())"
   ]
  },
  {
   "cell_type": "code",
   "execution_count": null,
   "metadata": {},
   "outputs": [],
   "source": [
    "file = open(\"len.txt\",\"w\")\n",
    "for i in real_length:\n",
    "    file.write(\"%d\\n\"%i)\n",
    "file.close()"
   ]
  },
  {
   "cell_type": "code",
   "execution_count": null,
   "metadata": {},
   "outputs": [],
   "source": [
    "def zero_rate(x):\n",
    "    x = np.array(x)\n",
    "    non_zero_num = len(list(x.nonzero()[0]))\n",
    "    return 1-non_zero_num*1.0/len(x)"
   ]
  },
  {
   "cell_type": "code",
   "execution_count": null,
   "metadata": {},
   "outputs": [],
   "source": [
    "zero_rates = []\n",
    "for i in real_inputs:\n",
    "    zero_rates.append(zero_rate(i))\n",
    "zero_rates = np.array(zero_rates)"
   ]
  },
  {
   "cell_type": "code",
   "execution_count": null,
   "metadata": {},
   "outputs": [],
   "source": [
    "print(zero_rates.min())\n",
    "print(zero_rates.max())\n",
    "print(zero_rates.mean())"
   ]
  },
  {
   "cell_type": "code",
   "execution_count": null,
   "metadata": {},
   "outputs": [],
   "source": [
    "for i in range(3):\n",
    "    print(real_inputs[i])"
   ]
  },
  {
   "cell_type": "code",
   "execution_count": null,
   "metadata": {},
   "outputs": [],
   "source": [
    "from my_to_midi import *"
   ]
  },
  {
   "cell_type": "code",
   "execution_count": null,
   "metadata": {},
   "outputs": [],
   "source": [
    "for i in range(1,11):\n",
    "    a = real_inputs[10]\n",
    "    events_to_midi(a, 'test_midi', 'input%d'%i)"
   ]
  },
  {
   "cell_type": "code",
   "execution_count": null,
   "metadata": {},
   "outputs": [],
   "source": [
    "for i in range(len(real_inputs)):\n",
    "    real_inputs[i].pop()"
   ]
  },
  {
   "cell_type": "code",
   "execution_count": null,
   "metadata": {},
   "outputs": [],
   "source": [
    "import pickle\n",
    "real_inputs_file = open(\"real_inputs.pkl\",\"wb\")\n",
    "pickle.dump(real_inputs, real_inputs_file)\n",
    "real_inputs_file.close()"
   ]
  },
  {
   "cell_type": "code",
   "execution_count": null,
   "metadata": {},
   "outputs": [],
   "source": [
    "test_file = open(\"real_inputs.pkl\",\"rb\")\n",
    "a = []\n",
    "a = pickle.load(test_file)\n",
    "test_file.close()"
   ]
  },
  {
   "cell_type": "code",
   "execution_count": null,
   "metadata": {},
   "outputs": [],
   "source": [
    "index_to_char = \"._0123456789abcdefghijklmnopqrstuvwxyz\"\n",
    "with open(\"Wikifonia_to_text.txt\", \"w\") as wf:\n",
    "    for i in real_inputs:\n",
    "        for j in range(len(i)):\n",
    "            wf.write(index_to_char[i[j]])\n",
    "    wf.close()"
   ]
  },
  {
   "cell_type": "code",
   "execution_count": null,
   "metadata": {},
   "outputs": [],
   "source": [
    "\n"
   ]
  }
 ],
 "metadata": {
  "kernelspec": {
   "display_name": "Python 3",
   "language": "python",
   "name": "python3"
  },
  "language_info": {
   "codemirror_mode": {
    "name": "ipython",
    "version": 3
   },
   "file_extension": ".py",
   "mimetype": "text/x-python",
   "name": "python",
   "nbconvert_exporter": "python",
   "pygments_lexer": "ipython3",
   "version": "3.6.1"
  }
 },
 "nbformat": 4,
 "nbformat_minor": 2
}
