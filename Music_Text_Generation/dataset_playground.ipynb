{
 "cells": [
  {
   "cell_type": "code",
   "execution_count": 1,
   "metadata": {},
   "outputs": [
    {
     "name": "stderr",
     "output_type": "stream",
     "text": [
      "/Library/Frameworks/Python.framework/Versions/3.6/lib/python3.6/site-packages/h5py/__init__.py:36: FutureWarning: Conversion of the second argument of issubdtype from `float` to `np.floating` is deprecated. In future, it will be treated as `np.float64 == np.dtype(float).type`.\n",
      "  from ._conv import register_converters as _register_converters\n"
     ]
    },
    {
     "name": "stdout",
     "output_type": "stream",
     "text": [
      "INFO:tensorflow:Counting records in /Users/mac/Desktop/Brain/Simplified_Magenta/Wikifonia_basic_rnn_sequence_examples/training_melodies.tfrecord.\n",
      "INFO:tensorflow:Total records: 6668\n",
      "INFO:tensorflow:[<tf.Tensor 'ParseSingleSequenceExample/ParseSingleSequenceExample:0' shape=(?, 38) dtype=float32>, <tf.Tensor 'ParseSingleSequenceExample/ParseSingleSequenceExample:1' shape=(?,) dtype=int64>, <tf.Tensor 'strided_slice:0' shape=() dtype=int32>]\n",
      "inputs (6668, 511, 38) <class 'numpy.ndarray'> [ 0  0  0  0  0  0  0  0 18  0]\n",
      "labels (6668, 511) <class 'numpy.ndarray'> [ 0  0  0  0  0  0  0 18  0  0]\n",
      "Time: 2.7724790573120117\n",
      "inputs shape (6668, 511, 38)\n",
      "inputs type <class 'numpy.ndarray'>\n",
      "Finished! And then use ipdb for debug and watch the variables\n"
     ]
    }
   ],
   "source": [
    "from sequence_example_lib import *\n",
    "import os\n",
    "import tensorflow as tf\n",
    "import numpy as np\n",
    "import time\n",
    "\n",
    "sequence_example_file = ('/Users/mac/Desktop/Brain/Simplified_Magenta/Wikifonia_basic_rnn_sequence_examples/training_melodies.tfrecord')\n",
    "sequence_example_file_paths = tf.gfile.Glob(\n",
    "    os.path.expanduser(sequence_example_file))\n",
    "\n",
    "start_time = time.time()\n",
    "inputs, labels, lengths = get_numpy_from_tf_sequence_example( input_size=38,\n",
    "                                    sequence_example_file_paths = sequence_example_file_paths,\n",
    "                                    shuffle = False)\n",
    "print('Time:',time.time() - start_time)\n",
    "print('inputs shape',inputs.shape)\n",
    "print('inputs type',type(inputs))\n",
    "print('Finished! And then use ipdb for debug and watch the variables')"
   ]
  },
  {
   "cell_type": "code",
   "execution_count": 2,
   "metadata": {},
   "outputs": [],
   "source": [
    "def to_events(x):\n",
    "    return np.argmax(x, axis=1)"
   ]
  },
  {
   "cell_type": "code",
   "execution_count": 3,
   "metadata": {},
   "outputs": [],
   "source": [
    "input_events = []\n",
    "for i in inputs:\n",
    "    input_events.append(to_events(i))"
   ]
  },
  {
   "cell_type": "code",
   "execution_count": 4,
   "metadata": {},
   "outputs": [],
   "source": [
    "def to_real_length(x):\n",
    "    while(x[len(x)-1]==0):\n",
    "        x.pop()"
   ]
  },
  {
   "cell_type": "code",
   "execution_count": 5,
   "metadata": {},
   "outputs": [],
   "source": [
    "real_inputs = []\n",
    "for i in input_events:\n",
    "    d = list(i)\n",
    "    to_real_length(d)\n",
    "    real_inputs.append(d)"
   ]
  },
  {
   "cell_type": "code",
   "execution_count": 6,
   "metadata": {},
   "outputs": [],
   "source": [
    "real_length = []\n",
    "for i in real_inputs:\n",
    "    real_length.append(len(i))\n",
    "real_length = np.array(real_length)"
   ]
  },
  {
   "cell_type": "code",
   "execution_count": 7,
   "metadata": {},
   "outputs": [
    {
     "name": "stdout",
     "output_type": "stream",
     "text": [
      "49\n",
      "511\n",
      "359.3848230353929\n"
     ]
    }
   ],
   "source": [
    "print(real_length.min())\n",
    "print(real_length.max())\n",
    "print(real_length.mean())"
   ]
  },
  {
   "cell_type": "code",
   "execution_count": 8,
   "metadata": {},
   "outputs": [],
   "source": [
    "file = open(\"len.txt\",\"w\")\n",
    "for i in real_length:\n",
    "    file.write(\"%d\\n\"%i)\n",
    "file.close()"
   ]
  },
  {
   "cell_type": "code",
   "execution_count": 9,
   "metadata": {},
   "outputs": [],
   "source": [
    "def zero_rate(x):\n",
    "    x = np.array(x)\n",
    "    non_zero_num = len(list(x.nonzero()[0]))\n",
    "    return 1-non_zero_num*1.0/len(x)"
   ]
  },
  {
   "cell_type": "code",
   "execution_count": 10,
   "metadata": {},
   "outputs": [],
   "source": [
    "zero_rates = []\n",
    "for i in real_inputs:\n",
    "    zero_rates.append(zero_rate(i))\n",
    "zero_rates = np.array(zero_rates)"
   ]
  },
  {
   "cell_type": "code",
   "execution_count": 11,
   "metadata": {},
   "outputs": [
    {
     "name": "stdout",
     "output_type": "stream",
     "text": [
      "0.03522504892367906\n",
      "0.9348441926345609\n",
      "0.7312030925153147\n"
     ]
    }
   ],
   "source": [
    "print(zero_rates.min())\n",
    "print(zero_rates.max())\n",
    "print(zero_rates.mean())"
   ]
  },
  {
   "cell_type": "code",
   "execution_count": 12,
   "metadata": {},
   "outputs": [
    {
     "name": "stdout",
     "output_type": "stream",
     "text": [
      "[0, 0, 0, 0, 0, 0, 0, 0, 18, 0, 0, 0, 21, 0, 0, 0, 26, 0, 0, 0, 0, 0, 0, 0, 26, 0, 0, 0, 0, 0, 0, 0, 25, 0, 0, 0, 21, 0, 0, 0, 0, 0, 0, 0, 14, 0, 0, 0, 23, 0, 0, 0, 0, 0, 0, 0, 23, 0, 0, 0, 23, 0, 0, 0, 21, 0, 0, 0, 18, 0, 0, 0, 0, 0, 0, 0, 14, 0, 0, 0, 19, 0, 0, 0, 0, 0, 0, 0, 19, 0, 0, 0, 0, 0, 0, 0, 18, 0, 0, 0, 16, 0, 0, 0, 14, 0, 0, 0, 16, 0, 0, 0, 18, 0, 0, 0, 0, 0, 0, 0, 0, 0, 0, 0, 0, 0, 0, 0, 18, 0, 0, 0, 1, 0, 0, 0, 18, 0, 0, 0, 21, 0, 0, 0, 14, 0, 0, 0, 0, 0, 0, 0, 0, 0, 0, 0, 0, 0, 0, 0, 14, 0, 0, 0, 0, 0, 0, 0, 1, 0, 0, 0, 14, 0, 0, 0, 23, 0, 19, 0, 21, 0, 0, 0, 23, 0, 0, 0, 23, 0, 0, 0, 23, 0, 0, 0, 0, 0, 0, 0, 0, 0, 0, 0, 25, 0, 0, 0, 21, 0, 18, 0, 19, 0, 0, 0, 21, 0, 0, 0, 21, 0, 0, 0, 18, 0, 0, 0, 0, 0, 0, 0, 1, 0, 0, 0, 14, 0, 0, 0, 23, 0, 19, 0, 21, 0, 0, 0, 23, 0, 0, 0, 23, 0, 0, 0, 26, 0, 0, 0, 0, 0, 0, 0, 0, 0, 0, 0, 23, 0, 25, 0, 26, 0, 0, 0, 25, 0, 26, 0, 25, 0, 0, 0, 23, 0, 0, 0, 16, 0, 0, 0, 1, 0, 0, 0, 18, 0, 0, 0, 21, 0, 0, 0, 26, 0, 0, 0, 0, 0, 0, 0, 26, 0, 0, 0, 0, 0, 0, 0, 25, 0, 0, 0, 21, 0, 0, 0, 0, 0, 0, 0, 14, 0, 0, 0, 23, 0, 0, 0, 0, 0, 0, 0, 23, 0, 0, 0, 23, 0, 0, 0, 21, 0, 0, 0, 18, 0, 0, 0, 0, 0, 0, 0, 14, 0, 0, 0, 19, 0, 0, 0, 0, 0, 0, 0, 19, 0, 0, 0, 0, 0, 0, 0, 18, 0, 0, 0, 16, 0, 0, 0, 14, 0, 0, 0, 16, 0, 0, 0, 14, 0, 0, 0, 1, 0, 0, 0, 21, 0, 0, 0, 19, 0, 18, 0, 21]\n",
      "[0, 0, 0, 0, 0, 0, 0, 0, 0, 0, 0, 0, 0, 0, 18, 19, 21, 0, 0, 0, 0, 0, 0, 21, 21, 21, 0, 0, 0, 0, 0, 0, 21, 21, 0, 0, 21, 0, 0, 0, 0, 0, 0, 0, 1, 0, 18, 19, 21, 0, 0, 0, 21, 0, 0, 0, 21, 0, 0, 0, 0, 0, 23, 0, 21, 0, 0, 0, 0, 0, 0, 0, 21, 0, 0, 0, 1, 0, 23, 25, 26, 0, 26, 0, 0, 0, 0, 0, 26, 0, 0, 0, 0, 0, 26, 0, 26, 0, 26, 0, 0, 0, 0, 0, 26, 0, 0, 0, 1, 0, 23, 25, 26, 26, 0, 0, 0, 0, 0, 0, 26, 0, 0, 0, 0, 0, 0, 26, 25, 0, 0, 0, 0, 0, 0, 0, 0, 0, 0, 0, 1, 0, 26, 28, 30, 0, 0, 0, 0, 0, 30, 0, 30, 0, 0, 0, 0, 0, 30, 0, 30, 0, 30, 0, 0, 0, 0, 0, 31, 0, 0, 0, 0, 0, 30, 0, 28, 0, 0, 0, 0, 0, 30, 0, 28, 0, 0, 0, 26, 0, 0, 0, 25, 0, 0, 0, 0, 0, 0, 0, 0, 0, 0, 0, 1, 0, 0, 0, 21, 0, 0, 0, 0, 0, 26, 0, 26, 0, 0, 0, 0, 0, 28, 0, 30, 0, 0, 0, 30, 0, 0, 0, 28, 0, 0, 0, 0, 0, 26, 0, 28, 0, 0, 0, 0, 0, 0, 0, 0, 0, 0, 0, 0, 0, 0, 0, 28, 0, 0, 0, 0, 0, 0, 0, 0, 0, 0, 0, 1, 0, 0, 0, 18, 0, 0, 0, 21, 0, 0, 0, 0, 0, 0, 0, 21, 0, 0, 23, 21, 0, 0, 0, 0, 0, 0, 0, 21, 0, 0, 0, 0, 0, 0, 0, 1, 0, 0, 0, 26, 0, 0, 0, 28, 0, 0, 0, 0, 0, 31, 0, 31, 0, 0, 0, 30, 0, 0, 0, 28, 0, 0, 0, 26, 0, 0, 0, 1, 0, 0, 0, 26, 0, 0, 0, 0, 0, 0, 0, 19, 0, 23, 0, 21, 0, 0, 0, 0, 0, 0, 0, 21, 0, 0, 0, 0, 0, 26, 0, 28, 0, 0, 0, 0, 0, 26, 0, 26, 0, 0, 0, 25, 0, 0, 0, 26, 0, 0, 0, 0, 0, 0, 0, 26, 0, 0, 0, 0, 0, 0, 0, 26]\n",
      "[0, 0, 0, 0, 0, 0, 0, 0, 0, 0, 0, 0, 0, 0, 18, 19, 21, 0, 0, 0, 0, 0, 0, 21, 21, 21, 0, 0, 0, 0, 0, 0, 21, 21, 0, 0, 0, 0, 0, 0, 21, 0, 0, 0, 0, 0, 0, 19, 21, 0, 0, 0, 0, 0, 0, 0, 21, 0, 21, 0, 21, 0, 23, 0, 21, 0, 0, 0, 0, 0, 0, 0, 0, 0, 0, 0, 1, 0, 23, 25, 26, 0, 26, 0, 0, 0, 0, 0, 26, 0, 0, 0, 0, 0, 26, 0, 26, 0, 26, 0, 0, 0, 0, 0, 26, 0, 0, 0, 0, 0, 0, 0, 26, 0, 0, 0, 26, 0, 0, 0, 26, 0, 0, 0, 26, 0, 0, 0, 25, 0, 0, 0, 0, 0, 0, 0, 0, 0, 0, 0, 1, 0, 26, 28, 30, 0, 0, 0, 0, 0, 30, 0, 30, 0, 0, 0, 0, 0, 30, 0, 30, 0, 0, 0, 30, 0, 0, 0, 31, 0, 0, 0, 0, 0, 30, 0, 28, 0, 0, 0, 0, 0, 30, 0, 28, 0, 0, 0, 26, 0, 0, 0, 25, 0, 0, 0, 0, 0, 0, 0, 0, 0, 0, 0, 1, 0, 0, 0, 21, 0, 0, 0, 0, 0, 26, 0, 26, 0, 0, 0, 0, 0, 28, 0, 31, 0, 30, 0, 0, 0, 0, 0, 30, 0, 0, 0, 30, 0, 28, 26, 28, 0, 0, 0, 0, 0, 0, 0, 0, 0, 0, 0, 0, 0, 0, 0, 28, 0, 0, 0, 0, 0, 0, 0, 0, 0, 0, 0, 1, 0, 0, 0, 18, 0, 0, 0, 21, 0, 0, 0, 0, 0, 0, 0, 21, 0, 0, 23, 21, 0, 0, 0, 0, 0, 0, 0, 21, 0, 0, 0, 0, 0, 0, 0, 1, 0, 0, 0, 26, 0, 0, 0, 28, 0, 0, 0, 0, 0, 31, 0, 31, 0, 0, 0, 30, 0, 0, 0, 28, 0, 0, 0, 26, 0, 0, 0, 1, 0, 0, 0, 26, 0, 0, 0, 0, 0, 0, 0, 19, 0, 23, 0, 21, 0, 0, 0, 0, 0, 0, 0, 21, 0, 0, 0, 0, 0, 26, 0, 28, 0, 0, 0, 0, 0, 26, 0, 26, 0, 0, 0, 25, 0, 0, 0, 26, 0, 0, 0, 0, 0, 0, 0, 26, 0, 0, 0, 0, 0, 0, 0, 26]\n"
     ]
    }
   ],
   "source": [
    "for i in range(3):\n",
    "    print(real_inputs[i])"
   ]
  },
  {
   "cell_type": "code",
   "execution_count": 13,
   "metadata": {},
   "outputs": [
    {
     "name": "stderr",
     "output_type": "stream",
     "text": [
      "Using TensorFlow backend.\n"
     ]
    }
   ],
   "source": [
    "from my_to_midi import *"
   ]
  },
  {
   "cell_type": "code",
   "execution_count": 14,
   "metadata": {},
   "outputs": [
    {
     "name": "stdout",
     "output_type": "stream",
     "text": [
      "INFO:tensorflow:Wrote input1.mid to test_midi\n",
      "INFO:tensorflow:Wrote input2.mid to test_midi\n",
      "INFO:tensorflow:Wrote input3.mid to test_midi\n",
      "INFO:tensorflow:Wrote input4.mid to test_midi\n",
      "INFO:tensorflow:Wrote input5.mid to test_midi\n",
      "INFO:tensorflow:Wrote input6.mid to test_midi\n",
      "INFO:tensorflow:Wrote input7.mid to test_midi\n",
      "INFO:tensorflow:Wrote input8.mid to test_midi\n",
      "INFO:tensorflow:Wrote input9.mid to test_midi\n",
      "INFO:tensorflow:Wrote input10.mid to test_midi\n"
     ]
    }
   ],
   "source": [
    "for i in range(1,11):\n",
    "    a = real_inputs[10]\n",
    "    events_to_midi(a, 'test_midi', 'input%d'%i)"
   ]
  },
  {
   "cell_type": "code",
   "execution_count": 18,
   "metadata": {},
   "outputs": [],
   "source": [
    "for i in range(len(real_inputs)):\n",
    "    real_inputs[i].pop()"
   ]
  },
  {
   "cell_type": "code",
   "execution_count": 25,
   "metadata": {},
   "outputs": [],
   "source": [
    "import pickle\n",
    "real_inputs_file = open(\"real_inputs.pkl\",\"wb\")\n",
    "pickle.dump(real_inputs, real_inputs_file)\n",
    "real_inputs_file.close()"
   ]
  },
  {
   "cell_type": "code",
   "execution_count": 28,
   "metadata": {},
   "outputs": [],
   "source": [
    "test_file = open(\"real_inputs.pkl\",\"rb\")\n",
    "a = []\n",
    "a = pickle.load(test_file)\n",
    "test_file.close()"
   ]
  },
  {
   "cell_type": "code",
   "execution_count": 34,
   "metadata": {},
   "outputs": [],
   "source": [
    "index_to_char = \"._0123456789abcdefghijklmnopqrstuvwxyz\"\n",
    "with open(\"Wikifonia_to_text.txt\", \"w\") as wf:\n",
    "    for i in real_inputs:\n",
    "        for j in range(len(i)):\n",
    "            wf.write(index_to_char[i[j]])\n",
    "    wf.close()"
   ]
  },
  {
   "cell_type": "code",
   "execution_count": null,
   "metadata": {},
   "outputs": [],
   "source": [
    "\n"
   ]
  }
 ],
 "metadata": {
  "kernelspec": {
   "display_name": "Python 3",
   "language": "python",
   "name": "python3"
  },
  "language_info": {
   "codemirror_mode": {
    "name": "ipython",
    "version": 3
   },
   "file_extension": ".py",
   "mimetype": "text/x-python",
   "name": "python",
   "nbconvert_exporter": "python",
   "pygments_lexer": "ipython3",
   "version": "3.6.1"
  }
 },
 "nbformat": 4,
 "nbformat_minor": 2
}
