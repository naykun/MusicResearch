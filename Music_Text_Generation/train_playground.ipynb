{
 "cells": [
  {
   "cell_type": "code",
   "execution_count": 1,
   "metadata": {},
   "outputs": [
    {
     "name": "stderr",
     "output_type": "stream",
     "text": [
      "/Library/Frameworks/Python.framework/Versions/3.6/lib/python3.6/site-packages/h5py/__init__.py:36: FutureWarning: Conversion of the second argument of issubdtype from `float` to `np.floating` is deprecated. In future, it will be treated as `np.float64 == np.dtype(float).type`.\n",
      "  from ._conv import register_converters as _register_converters\n",
      "Using TensorFlow backend.\n"
     ]
    }
   ],
   "source": [
    "'''Example script to generate text from Nietzsche's writings.\n",
    "\n",
    "At least 20 epochs are required before the generated text\n",
    "starts sounding coherent.\n",
    "\n",
    "It is recommended to run this script on GPU, as recurrent\n",
    "networks are quite computationally intensive.\n",
    "\n",
    "If you try this script on new data, make sure your corpus\n",
    "has at least ~100k characters. ~1M is better.\n",
    "'''\n",
    "\n",
    "from __future__ import print_function\n",
    "from keras.callbacks import LambdaCallback\n",
    "from keras.models import Sequential\n",
    "from keras.layers import Dense, Activation\n",
    "from keras.layers import LSTM\n",
    "from keras.optimizers import RMSprop\n",
    "from keras.utils.data_utils import get_file\n",
    "from keras.callbacks import TensorBoard\n",
    "\n",
    "\n",
    "import numpy as np\n",
    "import random\n",
    "import sys\n",
    "import os\n",
    "\n",
    "\n",
    "from keras.callbacks import ModelCheckpoint, LearningRateScheduler\n",
    "from keras.callbacks import LambdaCallback\n",
    "\n",
    "\n",
    "from my_to_midi import *"
   ]
  },
  {
   "cell_type": "code",
   "execution_count": null,
   "metadata": {},
   "outputs": [],
   "source": [
    "FLAGS = tf.app.flags.FLAGS\n",
    "tf.app.flags.DEFINE_integer('batch_size', 1024, 'LSTM Layer Units Number')\n",
    "tf.app.flags.DEFINE_integer('epochs', 5, 'Total epochs')\n",
    "tf.app.flags.DEFINE_integer('maxlen', 48, 'Max length of a sentence')\n",
    "tf.app.flags.DEFINE_integer('step', 8, 'Step length when building dataset')\n",
    "tf.app.flags.DEFINE_integer('embedding_length', 1, 'Embedding length')\n",
    "tf.app.flags.DEFINE_string('dataset_name', 'Bach_train', 'Dataset name will be the prefix of exp_name')\n",
    "tf.app.flags.DEFINE_string('dataset_path', 'datasets/Bach_train.txt', 'Dataset path')"
   ]
  },
  {
   "cell_type": "code",
   "execution_count": 2,
   "metadata": {},
   "outputs": [
    {
     "name": "stdout",
     "output_type": "stream",
     "text": [
      "corpus length: 331708\n"
     ]
    }
   ],
   "source": [
    "batch_size = FLAGS.batch_size\n",
    "epochs = FLAGS.epochs\n",
    "units = FLAGS.units\n",
    "\n",
    "maxlen = FLAGS.maxlen\n",
    "step = FLAGS.step\n",
    "embedding_length = FLAGS.embedding_length\n",
    "dataset_name = FLAGS.dataset_name\n",
    "dataset_path = FLAGS.dataset_path\n",
    "\n",
    "exp_name = \"%s_batchS%d_epochs%d_units%d_maxL%d_step%d_embeddingL%d\" % (dataset_name, \n",
    "            batch_size, epochs, units, maxlen, step, embedding_length)"
   ]
  },
  {
   "cell_type": "code",
   "execution_count": null,
   "metadata": {},
   "outputs": [],
   "source": [
    "with open(dataset_text_path,\"r\") as f:\n",
    "    text = f.read().lower()\n",
    "print('corpus length:', len(text))\n",
    "\n",
    "text = text[0:1000]"
   ]
  },
  {
   "cell_type": "code",
   "execution_count": 3,
   "metadata": {},
   "outputs": [
    {
     "name": "stdout",
     "output_type": "stream",
     "text": [
      "total chars: 38\n"
     ]
    }
   ],
   "source": [
    "chars = \"._0123456789abcdefghijklmnopqrstuvwxyz\"\n",
    "print('total chars:', len(chars))\n",
    "char_indices = dict((c, i) for i, c in enumerate(chars))\n",
    "indices_char = dict((i, c) for i, c in enumerate(chars))\n",
    "# wikifonia: 238w chars"
   ]
  },
  {
   "cell_type": "code",
   "execution_count": 4,
   "metadata": {},
   "outputs": [],
   "source": [
    "def text_to_events(str):\n",
    "    ret = []\n",
    "    for i in str:\n",
    "        ret.append(char_indices[i])\n",
    "    return ret"
   ]
  },
  {
   "cell_type": "code",
   "execution_count": 6,
   "metadata": {},
   "outputs": [],
   "source": [
    "log_dir = os.path.join(\"logdir/\", exp_name)\n",
    "TB_log_dir = os.path.join('TB_logdir/', exp_name)\n",
    "console_log_dir = os.path.join(log_dir, \"console\")\n",
    "model_log_dir = os.path.join(log_dir, \"model\")\n",
    "text_log_dir = os.path.join(log_dir, \"text\")\n",
    "midi_log_dir = os.path.join(log_dir, \"midi\")\n",
    "\n",
    "\n",
    "def make_log_dirs(dirs):\n",
    "    for dir in dirs:\n",
    "        if not os.path.exists(dir):\n",
    "            os.makedirs(dir)\n",
    "\n",
    "dirs = [log_dir, TB_log_dir, console_log_dir, model_log_dir, text_log_dir, midi_log_dir]\n",
    "make_log_dirs(dirs)\n",
    "\n",
    "max_acc_log_path = os.path.join(\"logdir/\", \"max_acc_log.txt\")"
   ]
  },
  {
   "cell_type": "code",
   "execution_count": 7,
   "metadata": {},
   "outputs": [
    {
     "name": "stdout",
     "output_type": "stream",
     "text": [
      "nb sequences: 119\n",
      "Vectorization...\n"
     ]
    }
   ],
   "source": [
    "sentences = []\n",
    "next_chars = []\n",
    "\n",
    "for i in range(0, len(text) - maxlen, step):\n",
    "    sentences.append(text[i: i + maxlen])\n",
    "    next_chars.append(text[i + maxlen])\n",
    "print('nb sequences:', len(sentences))\n",
    "\n",
    "print('Vectorization...')\n",
    "x = np.zeros((len(sentences), maxlen, len(chars)), dtype=np.bool)\n",
    "y = np.zeros((len(sentences), len(chars)), dtype=np.bool)\n",
    "for i, sentence in enumerate(sentences):\n",
    "    for t, char in enumerate(sentence):\n",
    "        x[i, t, char_indices[char]] = 1\n",
    "    y[i, char_indices[next_chars[i]]] = 1"
   ]
  },
  {
   "cell_type": "code",
   "execution_count": 8,
   "metadata": {},
   "outputs": [],
   "source": [
    "def lr_schedule(epoch):\n",
    "    #Learning Rate Schedule\n",
    "    lr = 1e-1\n",
    "    if epoch >= epochs * 0.9:\n",
    "        lr *= 0.5e-3\n",
    "    elif epoch >= epochs * 0.8:\n",
    "        lr *= 1e-3\n",
    "    elif epoch >= epochs * 0.6:\n",
    "        lr *= 1e-2\n",
    "    elif epoch >= epochs * 0.4:\n",
    "        lr *= 1e-1\n",
    "    print('Learning rate: ', lr)\n",
    "\n",
    "    lr = 1e-3\n",
    "    return lr"
   ]
  },
  {
   "cell_type": "code",
   "execution_count": 9,
   "metadata": {},
   "outputs": [],
   "source": [
    "def print_fn(str):\n",
    "    print(str)\n",
    "    console_log_file = os.path.join(console_log_dir, 'console_output.txt')\n",
    "    with open(console_log_file, 'a+') as f:\n",
    "        print(str, file=f)"
   ]
  },
  {
   "cell_type": "code",
   "execution_count": 10,
   "metadata": {},
   "outputs": [
    {
     "name": "stdout",
     "output_type": "stream",
     "text": [
      "Build model...\n",
      "Learning rate:  0.1\n",
      "_________________________________________________________________\n",
      "Layer (type)                 Output Shape              Param #   \n",
      "=================================================================\n",
      "lstm_1 (LSTM)                (None, 128)               85504     \n",
      "_________________________________________________________________\n",
      "dense_1 (Dense)              (None, 38)                4902      \n",
      "_________________________________________________________________\n",
      "activation_1 (Activation)    (None, 38)                0         \n",
      "=================================================================\n",
      "Total params: 90,406\n",
      "Trainable params: 90,406\n",
      "Non-trainable params: 0\n",
      "_________________________________________________________________\n"
     ]
    }
   ],
   "source": [
    "# build the model: a single LSTM\n",
    "print_fn('Build model...')\n",
    "\n",
    "model = Sequential()\n",
    "model.add(LSTM(units, input_shape=(maxlen, len(chars))))\n",
    "model.add(Dense(len(chars)))\n",
    "model.add(Activation('softmax'))\n",
    "\n",
    "optimizer = RMSprop(lr=lr_schedule(0))\n",
    "model.compile(loss='categorical_crossentropy', optimizer=optimizer, metrics=['accuracy'])\n",
    "model.summary(print_fn = print_fn)"
   ]
  },
  {
   "cell_type": "code",
   "execution_count": 11,
   "metadata": {},
   "outputs": [],
   "source": [
    "def sample(preds, temperature=1.0):\n",
    "    # helper function to sample an index from a probability array\n",
    "    preds = np.asarray(preds).astype('float64')\n",
    "    preds = np.log(preds) / temperature\n",
    "    exp_preds = np.exp(preds)\n",
    "    preds = exp_preds / np.sum(exp_preds)\n",
    "    probas = np.random.multinomial(1, preds, 1)\n",
    "    return np.argmax(probas)"
   ]
  },
  {
   "cell_type": "code",
   "execution_count": 12,
   "metadata": {},
   "outputs": [],
   "source": [
    "def on_epoch_end(epoch, logs):\n",
    "    # Function invoked at end of each epoch. Prints generated text.\n",
    "    if epoch % (epochs // 5) != 0:\n",
    "        return\n",
    "\n",
    "    print_fn(\"\")\n",
    "    print_fn('----- Generating text after Epoch: %d' % epoch)\n",
    "\n",
    "    start_index = random.randint(0, len(text) - maxlen - 1)\n",
    "\n",
    "    for diversity in [0.2, 0.4, 0.6, 0.8, 1.0, 1.2]:\n",
    "        print_fn('----- diversity: %.1f' % diversity)\n",
    "\n",
    "        generated = ''\n",
    "        sentence = text[start_index: start_index + maxlen]\n",
    "        generated += sentence\n",
    "        print_fn('----- Generating with seed: \"' + sentence + '\"')\n",
    "        sys.stdout.write(generated)\n",
    "\n",
    "        for i in range(400):\n",
    "            x_pred = np.zeros((1, maxlen, len(chars)))\n",
    "            for t, char in enumerate(sentence):\n",
    "                x_pred[0, t, char_indices[char]] = 1.\n",
    "\n",
    "            preds = model.predict(x_pred, verbose=0)[0]\n",
    "            next_index = sample(preds, diversity)\n",
    "            next_char = indices_char[next_index]\n",
    "\n",
    "            generated += next_char\n",
    "            sentence = sentence[1:] + next_char\n",
    "\n",
    "            sys.stdout.write(next_char)\n",
    "            sys.stdout.flush()\n",
    "\n",
    "        log_name = \"epoch%d_diversity%02d\" % (epoch, int(diversity*10))\n",
    "        text_log_path = os.path.join(text_log_dir, log_name+\".txt\")\n",
    "        with open(text_log_path,\"w\") as text_log_file:\n",
    "            text_log_file.write(generated+\"\\n\")\n",
    "            text_log_file.close()\n",
    "        \n",
    "        print_fn(\"Write %s.txt to %s\"%(log_name, text_log_dir))\n",
    "        \n",
    "        events = text_to_events(generated)\n",
    "        events_to_midi('basic_rnn', events, midi_log_dir, log_name)\n",
    "        \n",
    "        print_fn(\"Write %s.midi to %s\" % (log_name, midi_log_dir) )\n",
    "        \n",
    "        model_name = \"epoch%d.h5\" % epoch\n",
    "        model_path = os.path.join(model_log_dir, model_name)\n",
    "        model.save(model_path)\n",
    "        print_fn(\"Save model %s.h5 to %s\" % (model_name, model_log_dir) )\n",
    "        "
   ]
  },
  {
   "cell_type": "code",
   "execution_count": 14,
   "metadata": {},
   "outputs": [
    {
     "name": "stdout",
     "output_type": "stream",
     "text": [
      "Learning rate:  0.1\n",
      "\n",
      "Epoch 00001: LearningRateScheduler reducing learning rate to 0.001.\n",
      "Learning rate:  0.1\n",
      "\n",
      "Epoch 00002: LearningRateScheduler reducing learning rate to 0.001.\n",
      "Learning rate:  0.010000000000000002\n",
      "\n",
      "Epoch 00003: LearningRateScheduler reducing learning rate to 0.001.\n",
      "Learning rate:  0.001\n",
      "\n",
      "Epoch 00004: LearningRateScheduler reducing learning rate to 0.001.\n",
      "Learning rate:  0.0001\n",
      "\n",
      "Epoch 00005: LearningRateScheduler reducing learning rate to 0.001.\n",
      "Experiment Bach_batchS1024_epochs5_units128_maxL48_step8_embeddingL1 max accuracy:0.142857\n"
     ]
    }
   ],
   "source": [
    "lr_scheduler = LearningRateScheduler(lr_schedule, verbose=1)\n",
    "# 参照下面代码加一下TensorBoard\n",
    "tb_callbacks = TensorBoard(log_dir = TB_log_dir)\n",
    "history_callback = model.fit(x, y,\n",
    "          verbose = 0,\n",
    "          batch_size=batch_size,\n",
    "          epochs=epochs,\n",
    "          callbacks=[tb_callbacks, lr_scheduler])\n",
    "\n",
    "acc_history = history_callback.history[\"acc\"]\n",
    "max_acc = np.max(acc_history)\n",
    "print_fn('Experiment %s max accuracy:%f' % (exp_name, max_acc) )\n",
    "max_acc_log_line = \"%s\\t%d\\t%d\\t%d\\t%d\\t%d\\t%f\" % (exp_name, \n",
    "             epochs, units, maxlen, step, embedding_length, max_acc)\n",
    "\n",
    "print(max_acc_log_line, file=open(max_acc_log_path, 'a'))"
   ]
  },
  {
   "cell_type": "code",
   "execution_count": null,
   "metadata": {},
   "outputs": [],
   "source": []
  },
  {
   "cell_type": "code",
   "execution_count": null,
   "metadata": {},
   "outputs": [],
   "source": []
  }
 ],
 "metadata": {
  "kernelspec": {
   "display_name": "Python 3",
   "language": "python",
   "name": "python3"
  },
  "language_info": {
   "codemirror_mode": {
    "name": "ipython",
    "version": 3
   },
   "file_extension": ".py",
   "mimetype": "text/x-python",
   "name": "python",
   "nbconvert_exporter": "python",
   "pygments_lexer": "ipython3",
   "version": "3.6.1"
  }
 },
 "nbformat": 4,
 "nbformat_minor": 2
}
