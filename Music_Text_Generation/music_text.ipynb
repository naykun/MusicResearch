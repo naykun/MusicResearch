{
 "cells": [
  {
   "cell_type": "code",
   "execution_count": 11,
   "metadata": {},
   "outputs": [
    {
     "name": "stderr",
     "output_type": "stream",
     "text": [
      "/Library/Frameworks/Python.framework/Versions/3.6/lib/python3.6/site-packages/h5py/__init__.py:36: FutureWarning: Conversion of the second argument of issubdtype from `float` to `np.floating` is deprecated. In future, it will be treated as `np.float64 == np.dtype(float).type`.\n",
      "  from ._conv import register_converters as _register_converters\n",
      "Using TensorFlow backend.\n"
     ]
    }
   ],
   "source": [
    "import numpy as np\n",
    "import tensorflow as tf\n",
    "import keras\n",
    "import os\n",
    "import pickle\n",
    "from my_to_midi import *\n",
    "from sequence_example_lib import *\n",
    "import copy"
   ]
  },
  {
   "cell_type": "code",
   "execution_count": 16,
   "metadata": {},
   "outputs": [],
   "source": [
    "def to_events(x):\n",
    "    return np.argmax(x, axis=1)\n",
    "def to_real_length(x):\n",
    "    while(x[len(x)-1]==0):\n",
    "        x.pop()\n",
    "    # delete the last note along with padded zeros\n",
    "    x.pop()"
   ]
  },
  {
   "cell_type": "code",
   "execution_count": 6,
   "metadata": {},
   "outputs": [],
   "source": [
    "index_to_char_str = \"._0123456789abcdefghijklmnopqrstuvwxyz\"\n",
    "char_to_index = dict((c, i) for i, c in enumerate(index_to_char_str))\n",
    "index_to_char = dict((i, c) for i, c in enumerate(index_to_char_str))"
   ]
  },
  {
   "cell_type": "code",
   "execution_count": 37,
   "metadata": {},
   "outputs": [],
   "source": [
    "# magenta dataset\n",
    "def sequence_example_to_text(sequence_example_path, output_dir, name):\n",
    "    # train\n",
    "    sequence_example_file = sequence_example_path\n",
    "    sequence_example_file_paths = tf.gfile.Glob(\n",
    "        os.path.expanduser(sequence_example_file))\n",
    "    start_time = time.time()\n",
    "    inputs, labels, lengths = get_numpy_from_tf_sequence_example( input_size=38,\n",
    "                                        sequence_example_file_paths = sequence_example_file_paths,\n",
    "                                        shuffle = False)\n",
    "    print('Time:',time.time() - start_time)\n",
    "    print('inputs shape',inputs.shape)\n",
    "    print('inputs type',type(inputs))\n",
    "    input_events = []\n",
    "    for i in inputs:\n",
    "        input_events.append(to_events(i))\n",
    "    real_inputs = []\n",
    "    for i in input_events:\n",
    "        d = []\n",
    "        d = list(i)\n",
    "        to_real_length(d)\n",
    "        real_inputs.append(d)\n",
    "    output_path = os.path.join(output_dir, name+'.txt')\n",
    "    with open(output_path, \"w\") as wf:\n",
    "        for i in real_inputs:\n",
    "            for j in range(len(i)):\n",
    "                wf.write(index_to_char_str[i[j]])\n",
    "        wf.close()"
   ]
  },
  {
   "cell_type": "code",
   "execution_count": 38,
   "metadata": {},
   "outputs": [],
   "source": [
    "def magenta_sequence_example_to_text(sequence_example_dir, output_dir, name):\n",
    "    train_path = os.path.join(sequence_example_dir, \"training_melodies.tfrecord\")\n",
    "    sequence_example_to_text(train_path, output_dir, name+\"_train\")\n",
    "    eval_path = os.path.join(sequence_example_dir, \"eval_melodies.tfrecord\")\n",
    "    sequence_example_to_text(eval_path, output_dir, name+\"_eval\")"
   ]
  },
  {
   "cell_type": "code",
   "execution_count": 42,
   "metadata": {},
   "outputs": [
    {
     "name": "stdout",
     "output_type": "stream",
     "text": [
      "Converting: /Users/mac/Desktop/MusicGeneration/Mag_Data/S_E_BasicRNN_midishare_bach20180725 Bach\n",
      "INFO:tensorflow:Counting records in /Users/mac/Desktop/MusicGeneration/Mag_Data/S_E_BasicRNN_midishare_bach20180725/training_melodies.tfrecord.\n",
      "INFO:tensorflow:Total records: 1206\n",
      "INFO:tensorflow:[<tf.Tensor 'ParseSingleSequenceExample_26/ParseSingleSequenceExample:0' shape=(?, 38) dtype=float32>, <tf.Tensor 'ParseSingleSequenceExample_26/ParseSingleSequenceExample:1' shape=(?,) dtype=int64>, <tf.Tensor 'strided_slice_26:0' shape=() dtype=int32>]\n",
      "inputs (1206, 511, 38) <class 'numpy.ndarray'> [0 0 0 0 0 0 0 0 0 0]\n",
      "labels (1206, 511) <class 'numpy.ndarray'> [0 0 0 0 0 0 0 0 0 0]\n",
      "Time: 4.224894046783447\n",
      "inputs shape (1206, 511, 38)\n",
      "inputs type <class 'numpy.ndarray'>\n",
      "INFO:tensorflow:Counting records in /Users/mac/Desktop/MusicGeneration/Mag_Data/S_E_BasicRNN_midishare_bach20180725/eval_melodies.tfrecord.\n",
      "INFO:tensorflow:Total records: 91\n",
      "INFO:tensorflow:[<tf.Tensor 'ParseSingleSequenceExample_27/ParseSingleSequenceExample:0' shape=(?, 38) dtype=float32>, <tf.Tensor 'ParseSingleSequenceExample_27/ParseSingleSequenceExample:1' shape=(?,) dtype=int64>, <tf.Tensor 'strided_slice_27:0' shape=() dtype=int32>]\n",
      "inputs (91, 511, 38) <class 'numpy.ndarray'> [18 21 25 30 29 30 28 30 27 30]\n",
      "labels (91, 511) <class 'numpy.ndarray'> [21 25 30 29 30 28 30 27 30 26]\n",
      "Time: 2.131761312484741\n",
      "inputs shape (91, 511, 38)\n",
      "inputs type <class 'numpy.ndarray'>\n",
      "Converting: /Users/mac/Desktop/MusicGeneration/Mag_Data/S_E_BasicRNN_midishare_Beethoven_20180725 Beethoven\n",
      "INFO:tensorflow:Counting records in /Users/mac/Desktop/MusicGeneration/Mag_Data/S_E_BasicRNN_midishare_Beethoven_20180725/training_melodies.tfrecord.\n",
      "INFO:tensorflow:Total records: 1672\n",
      "INFO:tensorflow:[<tf.Tensor 'ParseSingleSequenceExample_28/ParseSingleSequenceExample:0' shape=(?, 38) dtype=float32>, <tf.Tensor 'ParseSingleSequenceExample_28/ParseSingleSequenceExample:1' shape=(?,) dtype=int64>, <tf.Tensor 'strided_slice_28:0' shape=() dtype=int32>]\n",
      "inputs (1672, 511, 38) <class 'numpy.ndarray'> [11  1 11 13 16 14 13 11 13  1]\n",
      "labels (1672, 511) <class 'numpy.ndarray'> [ 1 11 13 16 14 13 11 13  1 13]\n",
      "Time: 4.652334213256836\n",
      "inputs shape (1672, 511, 38)\n",
      "inputs type <class 'numpy.ndarray'>\n",
      "INFO:tensorflow:Counting records in /Users/mac/Desktop/MusicGeneration/Mag_Data/S_E_BasicRNN_midishare_Beethoven_20180725/eval_melodies.tfrecord.\n",
      "INFO:tensorflow:Total records: 97\n",
      "INFO:tensorflow:[<tf.Tensor 'ParseSingleSequenceExample_29/ParseSingleSequenceExample:0' shape=(?, 38) dtype=float32>, <tf.Tensor 'ParseSingleSequenceExample_29/ParseSingleSequenceExample:1' shape=(?,) dtype=int64>, <tf.Tensor 'strided_slice_29:0' shape=() dtype=int32>]\n",
      "inputs (97, 511, 38) <class 'numpy.ndarray'> [19  0  0  0  1  0  0  0  0  0]\n",
      "labels (97, 511) <class 'numpy.ndarray'> [0 0 0 1 0 0 0 0 0 0]\n",
      "Time: 2.2933597564697266\n",
      "inputs shape (97, 511, 38)\n",
      "inputs type <class 'numpy.ndarray'>\n",
      "Converting: /Users/mac/Desktop/MusicGeneration/Mag_Data/S_E_BasicRNN_midishare_Mozart20180725 Mozart\n",
      "INFO:tensorflow:Counting records in /Users/mac/Desktop/MusicGeneration/Mag_Data/S_E_BasicRNN_midishare_Mozart20180725/training_melodies.tfrecord.\n",
      "INFO:tensorflow:Total records: 25\n",
      "INFO:tensorflow:[<tf.Tensor 'ParseSingleSequenceExample_30/ParseSingleSequenceExample:0' shape=(?, 38) dtype=float32>, <tf.Tensor 'ParseSingleSequenceExample_30/ParseSingleSequenceExample:1' shape=(?,) dtype=int64>, <tf.Tensor 'strided_slice_30:0' shape=() dtype=int32>]\n",
      "inputs (25, 511, 38) <class 'numpy.ndarray'> [0 0 0 0 0 0 0 0 0 0]\n",
      "labels (25, 511) <class 'numpy.ndarray'> [0 0 0 0 0 0 0 0 0 0]\n",
      "Time: 2.15523624420166\n",
      "inputs shape (25, 511, 38)\n",
      "inputs type <class 'numpy.ndarray'>\n",
      "INFO:tensorflow:Counting records in /Users/mac/Desktop/MusicGeneration/Mag_Data/S_E_BasicRNN_midishare_Mozart20180725/eval_melodies.tfrecord.\n",
      "INFO:tensorflow:Total records: 19\n",
      "INFO:tensorflow:[<tf.Tensor 'ParseSingleSequenceExample_31/ParseSingleSequenceExample:0' shape=(?, 38) dtype=float32>, <tf.Tensor 'ParseSingleSequenceExample_31/ParseSingleSequenceExample:1' shape=(?,) dtype=int64>, <tf.Tensor 'strided_slice_31:0' shape=() dtype=int32>]\n",
      "inputs (19, 511, 38) <class 'numpy.ndarray'> [9 0 0 0 0 0 0 0 0 0]\n",
      "labels (19, 511) <class 'numpy.ndarray'> [0 0 0 0 0 0 0 0 0 0]\n",
      "Time: 2.2598469257354736\n",
      "inputs shape (19, 511, 38)\n",
      "inputs type <class 'numpy.ndarray'>\n",
      "Converting: /Users/mac/Desktop/MusicGeneration/Mag_Data/S_E_BasicRNN_midishare_Wikifonia20180725 Wikifonia\n",
      "INFO:tensorflow:Counting records in /Users/mac/Desktop/MusicGeneration/Mag_Data/S_E_BasicRNN_midishare_Wikifonia20180725/training_melodies.tfrecord.\n",
      "INFO:tensorflow:Total records: 6668\n",
      "INFO:tensorflow:[<tf.Tensor 'ParseSingleSequenceExample_32/ParseSingleSequenceExample:0' shape=(?, 38) dtype=float32>, <tf.Tensor 'ParseSingleSequenceExample_32/ParseSingleSequenceExample:1' shape=(?,) dtype=int64>, <tf.Tensor 'strided_slice_32:0' shape=() dtype=int32>]\n",
      "inputs (6668, 511, 38) <class 'numpy.ndarray'> [0 0 0 0 0 0 0 0 0 0]\n",
      "labels (6668, 511) <class 'numpy.ndarray'> [0 0 0 0 0 0 0 0 0 0]\n",
      "Time: 8.498924732208252\n",
      "inputs shape (6668, 511, 38)\n",
      "inputs type <class 'numpy.ndarray'>\n",
      "INFO:tensorflow:Counting records in /Users/mac/Desktop/MusicGeneration/Mag_Data/S_E_BasicRNN_midishare_Wikifonia20180725/eval_melodies.tfrecord.\n",
      "INFO:tensorflow:Total records: 724\n",
      "INFO:tensorflow:[<tf.Tensor 'ParseSingleSequenceExample_33/ParseSingleSequenceExample:0' shape=(?, 38) dtype=float32>, <tf.Tensor 'ParseSingleSequenceExample_33/ParseSingleSequenceExample:1' shape=(?,) dtype=int64>, <tf.Tensor 'strided_slice_33:0' shape=() dtype=int32>]\n",
      "inputs (724, 511, 38) <class 'numpy.ndarray'> [ 9  0 11  0 14  0 16  0 16  0]\n",
      "labels (724, 511) <class 'numpy.ndarray'> [ 0 11  0 14  0 16  0 16  0  0]\n",
      "Time: 5.989450931549072\n",
      "inputs shape (724, 511, 38)\n",
      "inputs type <class 'numpy.ndarray'>\n"
     ]
    }
   ],
   "source": [
    "magenta_datasets_dirs = ['/Users/mac/Desktop/MusicGeneration/Mag_Data/S_E_BasicRNN_midishare_bach20180725',\n",
    "'/Users/mac/Desktop/MusicGeneration/Mag_Data/S_E_BasicRNN_midishare_Beethoven_20180725', \n",
    "'/Users/mac/Desktop/MusicGeneration/Mag_Data/S_E_BasicRNN_midishare_Mozart20180725',\n",
    "'/Users/mac/Desktop/MusicGeneration/Mag_Data/S_E_BasicRNN_midishare_Wikifonia20180725']\n",
    "magenta_datasets_names = ['Bach', 'Beethoven', 'Mozart', 'Wikifonia']\n",
    "for dataset_dir, dataset_name in zip(magenta_datasets_dirs, magenta_datasets_names):\n",
    "    print(\"Converting:\", dataset_dir, dataset_name)\n",
    "    magenta_sequence_example_to_text(dataset_dir, \"/Users/mac/Desktop/makedataset\", dataset_name)"
   ]
  },
  {
   "cell_type": "code",
   "execution_count": 15,
   "metadata": {},
   "outputs": [
    {
     "name": "stdout",
     "output_type": "stream",
     "text": [
      "INFO:tensorflow:Counting records in /Users/mac/Desktop/Brain/Simplified_Magenta/Wikifonia_basic_rnn_sequence_examples/training_melodies.tfrecord.\n",
      "INFO:tensorflow:Total records: 6668\n",
      "INFO:tensorflow:[<tf.Tensor 'ParseSingleSequenceExample_1/ParseSingleSequenceExample:0' shape=(?, 38) dtype=float32>, <tf.Tensor 'ParseSingleSequenceExample_1/ParseSingleSequenceExample:1' shape=(?,) dtype=int64>, <tf.Tensor 'strided_slice_1:0' shape=() dtype=int32>]\n",
      "inputs (6668, 511, 38) <class 'numpy.ndarray'> [0 0 0 0 0 0 0 0 0 0]\n",
      "labels (6668, 511) <class 'numpy.ndarray'> [0 0 0 0 0 0 0 0 0 0]\n",
      "Time: 3.5300891399383545\n",
      "inputs shape (6668, 511, 38)\n",
      "inputs type <class 'numpy.ndarray'>\n",
      "Finished! And then use ipdb for debug and watch the variables\n"
     ]
    }
   ],
   "source": [
    "\n",
    "sequence_example_file = ('/Users/mac/Desktop/Brain/Simplified_Magenta/Wikifonia_basic_rnn_sequence_examples/training_melodies.tfrecord')\n",
    "sequence_example_file_paths = tf.gfile.Glob(\n",
    "    os.path.expanduser(sequence_example_file))\n",
    "\n",
    "start_time = time.time()\n",
    "inputs, labels, lengths = get_numpy_from_tf_sequence_example( input_size=38,\n",
    "                                    sequence_example_file_paths = sequence_example_file_paths,\n",
    "                                    shuffle = False)\n",
    "print('Time:',time.time() - start_time)\n",
    "print('inputs shape',inputs.shape)\n",
    "print('inputs type',type(inputs))\n",
    "print('Finished! And then use ipdb for debug and watch the variables')\n",
    "\n",
    "def to_events(x):\n",
    "    return np.argmax(x, axis=1)\n",
    "\n",
    "input_events = []\n",
    "for i in inputs:\n",
    "    input_events.append(to_events(i))\n",
    "\n",
    "def to_real_length(x):\n",
    "    while(x[len(x)-1]==0):\n",
    "        x.pop()\n",
    "    # delete the last note along with padded zeros\n",
    "    x.pop()\n",
    "\n",
    "real_inputs = []\n",
    "for i in input_events:\n",
    "    d = list(i)\n",
    "    to_real_length(d)\n",
    "    real_inputs.append(d)"
   ]
  },
  {
   "cell_type": "code",
   "execution_count": 14,
   "metadata": {},
   "outputs": [
    {
     "data": {
      "text/plain": [
       "array([ 0,  0,  0,  0,  0,  0,  0, 18,  0,  0,  0, 21,  0,  0,  0, 26,  0,\n",
       "        0,  0,  0,  0,  0,  0, 26,  0,  0,  0,  0,  0,  0,  0, 25,  0,  0,\n",
       "        0, 21,  0,  0,  0,  0,  0,  0,  0, 14,  0,  0,  0, 23,  0,  0,  0,\n",
       "        0,  0,  0,  0, 23,  0,  0,  0, 23,  0,  0,  0, 21,  0,  0,  0, 18,\n",
       "        0,  0,  0,  0,  0,  0,  0, 14,  0,  0,  0, 19,  0,  0,  0,  0,  0,\n",
       "        0,  0, 19,  0,  0,  0,  0,  0,  0,  0, 18,  0,  0,  0, 16,  0,  0,\n",
       "        0, 14,  0,  0,  0, 16,  0,  0,  0, 18,  0,  0,  0,  0,  0,  0,  0,\n",
       "        0,  0,  0,  0,  0,  0,  0,  0, 18,  0,  0,  0,  1,  0,  0,  0, 18,\n",
       "        0,  0,  0, 21,  0,  0,  0, 14,  0,  0,  0,  0,  0,  0,  0,  0,  0,\n",
       "        0,  0,  0,  0,  0,  0, 14,  0,  0,  0,  0,  0,  0,  0,  1,  0,  0,\n",
       "        0, 14,  0,  0,  0, 23,  0, 19,  0, 21,  0,  0,  0, 23,  0,  0,  0,\n",
       "       23,  0,  0,  0, 23,  0,  0,  0,  0,  0,  0,  0,  0,  0,  0,  0, 25,\n",
       "        0,  0,  0, 21,  0, 18,  0, 19,  0,  0,  0, 21,  0,  0,  0, 21,  0,\n",
       "        0,  0, 18,  0,  0,  0,  0,  0,  0,  0,  1,  0,  0,  0, 14,  0,  0,\n",
       "        0, 23,  0, 19,  0, 21,  0,  0,  0, 23,  0,  0,  0, 23,  0,  0,  0,\n",
       "       26,  0,  0,  0,  0,  0,  0,  0,  0,  0,  0,  0, 23,  0, 25,  0, 26,\n",
       "        0,  0,  0, 25,  0, 26,  0, 25,  0,  0,  0, 23,  0,  0,  0, 16,  0,\n",
       "        0,  0,  1,  0,  0,  0, 18,  0,  0,  0, 21,  0,  0,  0, 26,  0,  0,\n",
       "        0,  0,  0,  0,  0, 26,  0,  0,  0,  0,  0,  0,  0, 25,  0,  0,  0,\n",
       "       21,  0,  0,  0,  0,  0,  0,  0, 14,  0,  0,  0, 23,  0,  0,  0,  0,\n",
       "        0,  0,  0, 23,  0,  0,  0, 23,  0,  0,  0, 21,  0,  0,  0, 18,  0,\n",
       "        0,  0,  0,  0,  0,  0, 14,  0,  0,  0, 19,  0,  0,  0,  0,  0,  0,\n",
       "        0, 19,  0,  0,  0,  0,  0,  0,  0, 18,  0,  0,  0, 16,  0,  0,  0,\n",
       "       14,  0,  0,  0, 16,  0,  0,  0, 14,  0,  0,  0,  1,  0,  0,  0, 21,\n",
       "        0,  0,  0, 19,  0, 18,  0, 21,  0,  0,  0,  0,  0,  0,  0,  0,  0,\n",
       "        0,  0,  0,  0,  0,  0,  0,  0,  0,  0,  0,  0,  0,  0,  0,  0,  0,\n",
       "        0,  0,  0,  0,  0,  0,  0,  0,  0,  0,  0,  0,  0,  0,  0,  0,  0,\n",
       "        0,  0,  0,  0,  0,  0,  0,  0,  0,  0,  0,  0,  0,  0,  0,  0,  0,\n",
       "        0,  0,  0,  0,  0,  0,  0,  0,  0,  0,  0,  0,  0,  0,  0,  0,  0,\n",
       "        0,  0,  0,  0,  0,  0,  0,  0,  0,  0,  0,  0,  0,  0,  0,  0,  0,\n",
       "        0])"
      ]
     },
     "execution_count": 14,
     "metadata": {},
     "output_type": "execute_result"
    }
   ],
   "source": [
    "#print(real_inputs[0])\n",
    "#print(labels[0])"
   ]
  },
  {
   "cell_type": "code",
   "execution_count": null,
   "metadata": {},
   "outputs": [],
   "source": [
    "with open(\"real_inputs.pkl\",\"wb\") as rf:\n",
    "    pickle.dump(real_inputs, rf)\n",
    "    rf.close()"
   ]
  },
  {
   "cell_type": "code",
   "execution_count": null,
   "metadata": {},
   "outputs": [],
   "source": [
    "with open(\"real_inputs.pkl\",\"rb\") as rf:\n",
    "    real_inputs = pickle.load(rf)\n",
    "    rf.close()"
   ]
  },
  {
   "cell_type": "code",
   "execution_count": null,
   "metadata": {},
   "outputs": [],
   "source": [
    "index_to_char_str = \"._0123456789abcdefghijklmnopqrstuvwxyz\"\n",
    "char_to_index = dict((c, i) for i, c in enumerate(index_to_char_str))\n",
    "index_to_char = dict((i, c) for i, c in enumerate(index_to_char_str))\n",
    "with open(\"Wikifonia_to_text.txt\", \"w\") as wf:\n",
    "    for i in real_inputs:\n",
    "        for j in range(len(i)):\n",
    "            wf.write(index_to_char_str[i[j]])\n",
    "    wf.close()\n",
    "# wikifonia: 238w chars "
   ]
  },
  {
   "cell_type": "code",
   "execution_count": 7,
   "metadata": {},
   "outputs": [],
   "source": [
    "with open(\"/Users/mac/Desktop/Brain/MusicResearch/Music_Text_Generation/datasets/Bach/Bach_eval.txt\", \"r\") as rf:\n",
    "    text = rf.read()\n",
    "    rf.close()"
   ]
  },
  {
   "cell_type": "code",
   "execution_count": 8,
   "metadata": {},
   "outputs": [
    {
     "data": {
      "text/plain": [
       "22196"
      ]
     },
     "execution_count": 8,
     "metadata": {},
     "output_type": "execute_result"
    }
   ],
   "source": [
    "len(text)"
   ]
  },
  {
   "cell_type": "code",
   "execution_count": 9,
   "metadata": {},
   "outputs": [],
   "source": [
    "def text_to_events(str):\n",
    "    ret = []\n",
    "    for i in str:\n",
    "        ret.append(char_to_index[i])\n",
    "    return ret "
   ]
  },
  {
   "cell_type": "code",
   "execution_count": 12,
   "metadata": {},
   "outputs": [
    {
     "name": "stdout",
     "output_type": "stream",
     "text": [
      "INFO:tensorflow:Wrote Bach_eval.mid to ~/Desktop\n"
     ]
    }
   ],
   "source": [
    "a = text_to_events(text)\n",
    "events_to_midi('basic_rnn', a, '~/Desktop', 'Bach_eval')"
   ]
  },
  {
   "cell_type": "code",
   "execution_count": null,
   "metadata": {},
   "outputs": [],
   "source": []
  }
 ],
 "metadata": {
  "kernelspec": {
   "display_name": "Python 3",
   "language": "python",
   "name": "python3"
  },
  "language_info": {
   "codemirror_mode": {
    "name": "ipython",
    "version": 3
   },
   "file_extension": ".py",
   "mimetype": "text/x-python",
   "name": "python",
   "nbconvert_exporter": "python",
   "pygments_lexer": "ipython3",
   "version": "3.6.1"
  }
 },
 "nbformat": 4,
 "nbformat_minor": 2
}
